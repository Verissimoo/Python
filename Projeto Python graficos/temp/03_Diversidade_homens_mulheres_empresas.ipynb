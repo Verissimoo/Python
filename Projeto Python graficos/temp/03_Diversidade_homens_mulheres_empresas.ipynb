{
  "cells": [
    {
      "cell_type": "markdown",
      "metadata": {
        "colab_type": "text",
        "id": "view-in-github"
      },
      "source": [
        "<a href=\"https://colab.research.google.com/github/TrabalhoAPC2021-02/Trabalho_Final/blob/main/arquivos/03_Diversidade_homens_mulheres_empresas.ipynb\" target=\"_parent\"><img src=\"https://colab.research.google.com/assets/colab-badge.svg\" alt=\"Open In Colab\"/></a>"
      ]
    },
    {
      "cell_type": "markdown",
      "metadata": {},
      "source": [
        "# Importando as bibliotecas\n"
      ]
    },
    {
      "cell_type": "code",
      "execution_count": 1,
      "metadata": {
        "id": "OQm5OekJSp6b"
      },
      "outputs": [],
      "source": [
        "import plotly.graph_objects as go # para a criação dos nossos gráficos\n",
        "import pandas as pd # para ler nossa tabela"
      ]
    },
    {
      "cell_type": "markdown",
      "metadata": {},
      "source": [
        "Abaixo faremos o processo de ler nossa tabela, dando o nome de dados_csv\n",
        "\n",
        "Usamos o comando do pandas \"pd.read_csv\"\n",
        "\n",
        "Passamos o link do nosso arquivo que está no github"
      ]
    },
    {
      "cell_type": "markdown",
      "metadata": {},
      "source": [
        "# Explicando a tabela\n",
        "\n",
        "O assunto da tabela é a diversidade de contratação por empresas, os dados estão em porcentagem\n",
        "\n",
        "Temos as colunas \"Date\" para os anos\n",
        "\n",
        "\"Type\" é o cargo ocupado dentro da empresa\n",
        "\n",
        "\"Company\" são as empresas\n",
        "\n",
        "O resto está bem autoexplicativo e podemos ver que todos estão em porcentagem, as próprias colunas nos dizem isso\n",
        "\n",
        "Nós usamos a tabela para pegar apenas os valores de porcentagem feminina e masculina"
      ]
    },
    {
      "cell_type": "code",
      "execution_count": 2,
      "metadata": {
        "id": "_G4B_g9DUDS9"
      },
      "outputs": [
        {
          "name": "stderr",
          "output_type": "stream",
          "text": [
            "/home/vini/.local/lib/python3.10/site-packages/IPython/core/interactiveshell.py:3369: FutureWarning: In a future version of pandas all arguments of read_csv except for the argument 'filepath_or_buffer' will be keyword-only.\n",
            "  exec(code_obj, self.user_global_ns, self.user_ns)\n"
          ]
        },
        {
          "data": {
            "text/html": [
              "<div>\n",
              "<style scoped>\n",
              "    .dataframe tbody tr th:only-of-type {\n",
              "        vertical-align: middle;\n",
              "    }\n",
              "\n",
              "    .dataframe tbody tr th {\n",
              "        vertical-align: top;\n",
              "    }\n",
              "\n",
              "    .dataframe thead th {\n",
              "        text-align: right;\n",
              "    }\n",
              "</style>\n",
              "<table border=\"1\" class=\"dataframe\">\n",
              "  <thead>\n",
              "    <tr style=\"text-align: right;\">\n",
              "      <th></th>\n",
              "      <th>Date</th>\n",
              "      <th>Type</th>\n",
              "      <th>Company</th>\n",
              "      <th>Female%</th>\n",
              "      <th>Male%</th>\n",
              "      <th>%White</th>\n",
              "      <th>%Asian</th>\n",
              "      <th>%Latino</th>\n",
              "      <th>%Black</th>\n",
              "      <th>%Multi</th>\n",
              "      <th>%Other</th>\n",
              "      <th>%Undeclared</th>\n",
              "    </tr>\n",
              "  </thead>\n",
              "  <tbody>\n",
              "    <tr>\n",
              "      <th>0</th>\n",
              "      <td>2014</td>\n",
              "      <td>Social Media</td>\n",
              "      <td>Facebook</td>\n",
              "      <td>31.0</td>\n",
              "      <td>69.0</td>\n",
              "      <td>57.0</td>\n",
              "      <td>34.0</td>\n",
              "      <td>4.0</td>\n",
              "      <td>2.0</td>\n",
              "      <td>3.0</td>\n",
              "      <td>-</td>\n",
              "      <td>NaN</td>\n",
              "    </tr>\n",
              "    <tr>\n",
              "      <th>1</th>\n",
              "      <td>2014</td>\n",
              "      <td>Social Media</td>\n",
              "      <td>Instagram</td>\n",
              "      <td>31.0</td>\n",
              "      <td>69.0</td>\n",
              "      <td>57.0</td>\n",
              "      <td>34.0</td>\n",
              "      <td>4.0</td>\n",
              "      <td>2.0</td>\n",
              "      <td>3.0</td>\n",
              "      <td>-</td>\n",
              "      <td>NaN</td>\n",
              "    </tr>\n",
              "    <tr>\n",
              "      <th>2</th>\n",
              "      <td>2014</td>\n",
              "      <td>Social Media</td>\n",
              "      <td>Google+</td>\n",
              "      <td>30.0</td>\n",
              "      <td>70.0</td>\n",
              "      <td>61.0</td>\n",
              "      <td>30.0</td>\n",
              "      <td>3.0</td>\n",
              "      <td>2.0</td>\n",
              "      <td>4.0</td>\n",
              "      <td>NaN</td>\n",
              "      <td>NaN</td>\n",
              "    </tr>\n",
              "    <tr>\n",
              "      <th>3</th>\n",
              "      <td>2014</td>\n",
              "      <td>Social Media</td>\n",
              "      <td>YouTube</td>\n",
              "      <td>30.0</td>\n",
              "      <td>70.0</td>\n",
              "      <td>61.0</td>\n",
              "      <td>30.0</td>\n",
              "      <td>3.0</td>\n",
              "      <td>2.0</td>\n",
              "      <td>4.0</td>\n",
              "      <td>NaN</td>\n",
              "      <td>NaN</td>\n",
              "    </tr>\n",
              "    <tr>\n",
              "      <th>4</th>\n",
              "      <td>2014</td>\n",
              "      <td>Social Media</td>\n",
              "      <td>LinkedIn</td>\n",
              "      <td>39.0</td>\n",
              "      <td>61.0</td>\n",
              "      <td>53.0</td>\n",
              "      <td>38.0</td>\n",
              "      <td>4.0</td>\n",
              "      <td>2.0</td>\n",
              "      <td>2.0</td>\n",
              "      <td>1.00</td>\n",
              "      <td>NaN</td>\n",
              "    </tr>\n",
              "    <tr>\n",
              "      <th>...</th>\n",
              "      <td>...</td>\n",
              "      <td>...</td>\n",
              "      <td>...</td>\n",
              "      <td>...</td>\n",
              "      <td>...</td>\n",
              "      <td>...</td>\n",
              "      <td>...</td>\n",
              "      <td>...</td>\n",
              "      <td>...</td>\n",
              "      <td>...</td>\n",
              "      <td>...</td>\n",
              "      <td>...</td>\n",
              "    </tr>\n",
              "    <tr>\n",
              "      <th>156</th>\n",
              "      <td>2018</td>\n",
              "      <td>Tech</td>\n",
              "      <td>Netflix</td>\n",
              "      <td>43.0</td>\n",
              "      <td>57.0</td>\n",
              "      <td>49.0</td>\n",
              "      <td>24.0</td>\n",
              "      <td>6.0</td>\n",
              "      <td>4.0</td>\n",
              "      <td>NaN</td>\n",
              "      <td>4.00</td>\n",
              "      <td>13.0</td>\n",
              "    </tr>\n",
              "    <tr>\n",
              "      <th>157</th>\n",
              "      <td>2018</td>\n",
              "      <td>Tech</td>\n",
              "      <td>Yelp</td>\n",
              "      <td>54.0</td>\n",
              "      <td>46.0</td>\n",
              "      <td>62.0</td>\n",
              "      <td>15.0</td>\n",
              "      <td>10.0</td>\n",
              "      <td>6.0</td>\n",
              "      <td>5.0</td>\n",
              "      <td>2.00</td>\n",
              "      <td>NaN</td>\n",
              "    </tr>\n",
              "    <tr>\n",
              "      <th>158</th>\n",
              "      <td>2018</td>\n",
              "      <td>Entity</td>\n",
              "      <td>DiversityInc top 50</td>\n",
              "      <td>44.0</td>\n",
              "      <td>56.0</td>\n",
              "      <td>78.0</td>\n",
              "      <td>6.0</td>\n",
              "      <td>7.0</td>\n",
              "      <td>9.0</td>\n",
              "      <td>NaN</td>\n",
              "      <td>NaN</td>\n",
              "      <td>NaN</td>\n",
              "    </tr>\n",
              "    <tr>\n",
              "      <th>159</th>\n",
              "      <td>2018</td>\n",
              "      <td>Entity</td>\n",
              "      <td>Fortune 500 CEOs</td>\n",
              "      <td>6.0</td>\n",
              "      <td>94.0</td>\n",
              "      <td>73.0</td>\n",
              "      <td>21.0</td>\n",
              "      <td>3.0</td>\n",
              "      <td>2.0</td>\n",
              "      <td>0.5</td>\n",
              "      <td>0.50</td>\n",
              "      <td>NaN</td>\n",
              "    </tr>\n",
              "    <tr>\n",
              "      <th>160</th>\n",
              "      <td>2018</td>\n",
              "      <td>Government</td>\n",
              "      <td>US Congress</td>\n",
              "      <td>20.0</td>\n",
              "      <td>80.0</td>\n",
              "      <td>80.0</td>\n",
              "      <td>3.0</td>\n",
              "      <td>7.0</td>\n",
              "      <td>9.0</td>\n",
              "      <td>NaN</td>\n",
              "      <td>1.00</td>\n",
              "      <td>NaN</td>\n",
              "    </tr>\n",
              "  </tbody>\n",
              "</table>\n",
              "<p>161 rows × 12 columns</p>\n",
              "</div>"
            ],
            "text/plain": [
              "     Date          Type              Company  Female%  Male%  %White  %Asian  \\\n",
              "0    2014  Social Media             Facebook     31.0   69.0    57.0    34.0   \n",
              "1    2014  Social Media            Instagram     31.0   69.0    57.0    34.0   \n",
              "2    2014  Social Media              Google+     30.0   70.0    61.0    30.0   \n",
              "3    2014  Social Media              YouTube     30.0   70.0    61.0    30.0   \n",
              "4    2014  Social Media             LinkedIn     39.0   61.0    53.0    38.0   \n",
              "..    ...           ...                  ...      ...    ...     ...     ...   \n",
              "156  2018          Tech              Netflix     43.0   57.0    49.0    24.0   \n",
              "157  2018          Tech                 Yelp     54.0   46.0    62.0    15.0   \n",
              "158  2018        Entity  DiversityInc top 50     44.0   56.0    78.0     6.0   \n",
              "159  2018        Entity     Fortune 500 CEOs      6.0   94.0    73.0    21.0   \n",
              "160  2018    Government          US Congress     20.0   80.0    80.0     3.0   \n",
              "\n",
              "     %Latino  %Black  %Multi %Other  %Undeclared  \n",
              "0        4.0     2.0     3.0   -             NaN  \n",
              "1        4.0     2.0     3.0   -             NaN  \n",
              "2        3.0     2.0     4.0    NaN          NaN  \n",
              "3        3.0     2.0     4.0    NaN          NaN  \n",
              "4        4.0     2.0     2.0  1.00           NaN  \n",
              "..       ...     ...     ...    ...          ...  \n",
              "156      6.0     4.0     NaN   4.00         13.0  \n",
              "157     10.0     6.0     5.0  2.00           NaN  \n",
              "158      7.0     9.0     NaN    NaN          NaN  \n",
              "159      3.0     2.0     0.5  0.50           NaN  \n",
              "160      7.0     9.0     NaN  1.00           NaN  \n",
              "\n",
              "[161 rows x 12 columns]"
            ]
          },
          "execution_count": 2,
          "metadata": {},
          "output_type": "execute_result"
        }
      ],
      "source": [
        "dados_csv = pd.read_csv('https://raw.githubusercontent.com/TrabalhoAPC2021-02/Trabalho_Final/main/arquivos/03_Employee_Diversity_in_Tech.csv', ';')\n",
        "dados_csv"
      ]
    },
    {
      "cell_type": "markdown",
      "metadata": {},
      "source": [
        "Separamos o nosso dataframe principal, pegando somente os dados do ano de 2018 e atribuimos isso a \"df_2018\""
      ]
    },
    {
      "cell_type": "code",
      "execution_count": 3,
      "metadata": {
        "colab": {
          "base_uri": "https://localhost:8080/",
          "height": 424
        },
        "id": "2CqOgmMycdpZ",
        "outputId": "b4c011bb-6b06-47c5-8b0b-85deb4d85310"
      },
      "outputs": [
        {
          "data": {
            "text/html": [
              "<div>\n",
              "<style scoped>\n",
              "    .dataframe tbody tr th:only-of-type {\n",
              "        vertical-align: middle;\n",
              "    }\n",
              "\n",
              "    .dataframe tbody tr th {\n",
              "        vertical-align: top;\n",
              "    }\n",
              "\n",
              "    .dataframe thead th {\n",
              "        text-align: right;\n",
              "    }\n",
              "</style>\n",
              "<table border=\"1\" class=\"dataframe\">\n",
              "  <thead>\n",
              "    <tr style=\"text-align: right;\">\n",
              "      <th></th>\n",
              "      <th>Date</th>\n",
              "      <th>Type</th>\n",
              "      <th>Company</th>\n",
              "      <th>Female%</th>\n",
              "      <th>Male%</th>\n",
              "      <th>%White</th>\n",
              "      <th>%Asian</th>\n",
              "      <th>%Latino</th>\n",
              "      <th>%Black</th>\n",
              "      <th>%Multi</th>\n",
              "      <th>%Other</th>\n",
              "      <th>%Undeclared</th>\n",
              "    </tr>\n",
              "  </thead>\n",
              "  <tbody>\n",
              "    <tr>\n",
              "      <th>63</th>\n",
              "      <td>2018</td>\n",
              "      <td>Country</td>\n",
              "      <td>U.S. Population</td>\n",
              "      <td>51.0</td>\n",
              "      <td>49.0</td>\n",
              "      <td>61.0</td>\n",
              "      <td>5.7</td>\n",
              "      <td>17.8</td>\n",
              "      <td>13.3</td>\n",
              "      <td>2.6</td>\n",
              "      <td>0.20</td>\n",
              "      <td>NaN</td>\n",
              "    </tr>\n",
              "    <tr>\n",
              "      <th>64</th>\n",
              "      <td>2018</td>\n",
              "      <td>Social Media</td>\n",
              "      <td>Facebook</td>\n",
              "      <td>35.0</td>\n",
              "      <td>65.0</td>\n",
              "      <td>49.0</td>\n",
              "      <td>40.0</td>\n",
              "      <td>5.0</td>\n",
              "      <td>3.0</td>\n",
              "      <td>3.0</td>\n",
              "      <td>1.00</td>\n",
              "      <td>NaN</td>\n",
              "    </tr>\n",
              "    <tr>\n",
              "      <th>65</th>\n",
              "      <td>2018</td>\n",
              "      <td>Social Media</td>\n",
              "      <td>Instagram</td>\n",
              "      <td>35.0</td>\n",
              "      <td>65.0</td>\n",
              "      <td>49.0</td>\n",
              "      <td>40.0</td>\n",
              "      <td>5.0</td>\n",
              "      <td>3.0</td>\n",
              "      <td>3.0</td>\n",
              "      <td>1.00</td>\n",
              "      <td>NaN</td>\n",
              "    </tr>\n",
              "    <tr>\n",
              "      <th>66</th>\n",
              "      <td>2018</td>\n",
              "      <td>Social Media</td>\n",
              "      <td>Google+</td>\n",
              "      <td>31.0</td>\n",
              "      <td>69.0</td>\n",
              "      <td>56.0</td>\n",
              "      <td>35.0</td>\n",
              "      <td>4.0</td>\n",
              "      <td>2.0</td>\n",
              "      <td>4.0</td>\n",
              "      <td>1.00</td>\n",
              "      <td>NaN</td>\n",
              "    </tr>\n",
              "    <tr>\n",
              "      <th>67</th>\n",
              "      <td>2018</td>\n",
              "      <td>Social Media</td>\n",
              "      <td>YouTube</td>\n",
              "      <td>31.0</td>\n",
              "      <td>69.0</td>\n",
              "      <td>56.0</td>\n",
              "      <td>35.0</td>\n",
              "      <td>4.0</td>\n",
              "      <td>2.0</td>\n",
              "      <td>4.0</td>\n",
              "      <td>1.00</td>\n",
              "      <td>NaN</td>\n",
              "    </tr>\n",
              "    <tr>\n",
              "      <th>...</th>\n",
              "      <td>...</td>\n",
              "      <td>...</td>\n",
              "      <td>...</td>\n",
              "      <td>...</td>\n",
              "      <td>...</td>\n",
              "      <td>...</td>\n",
              "      <td>...</td>\n",
              "      <td>...</td>\n",
              "      <td>...</td>\n",
              "      <td>...</td>\n",
              "      <td>...</td>\n",
              "      <td>...</td>\n",
              "    </tr>\n",
              "    <tr>\n",
              "      <th>156</th>\n",
              "      <td>2018</td>\n",
              "      <td>Tech</td>\n",
              "      <td>Netflix</td>\n",
              "      <td>43.0</td>\n",
              "      <td>57.0</td>\n",
              "      <td>49.0</td>\n",
              "      <td>24.0</td>\n",
              "      <td>6.0</td>\n",
              "      <td>4.0</td>\n",
              "      <td>NaN</td>\n",
              "      <td>4.00</td>\n",
              "      <td>13.0</td>\n",
              "    </tr>\n",
              "    <tr>\n",
              "      <th>157</th>\n",
              "      <td>2018</td>\n",
              "      <td>Tech</td>\n",
              "      <td>Yelp</td>\n",
              "      <td>54.0</td>\n",
              "      <td>46.0</td>\n",
              "      <td>62.0</td>\n",
              "      <td>15.0</td>\n",
              "      <td>10.0</td>\n",
              "      <td>6.0</td>\n",
              "      <td>5.0</td>\n",
              "      <td>2.00</td>\n",
              "      <td>NaN</td>\n",
              "    </tr>\n",
              "    <tr>\n",
              "      <th>158</th>\n",
              "      <td>2018</td>\n",
              "      <td>Entity</td>\n",
              "      <td>DiversityInc top 50</td>\n",
              "      <td>44.0</td>\n",
              "      <td>56.0</td>\n",
              "      <td>78.0</td>\n",
              "      <td>6.0</td>\n",
              "      <td>7.0</td>\n",
              "      <td>9.0</td>\n",
              "      <td>NaN</td>\n",
              "      <td>NaN</td>\n",
              "      <td>NaN</td>\n",
              "    </tr>\n",
              "    <tr>\n",
              "      <th>159</th>\n",
              "      <td>2018</td>\n",
              "      <td>Entity</td>\n",
              "      <td>Fortune 500 CEOs</td>\n",
              "      <td>6.0</td>\n",
              "      <td>94.0</td>\n",
              "      <td>73.0</td>\n",
              "      <td>21.0</td>\n",
              "      <td>3.0</td>\n",
              "      <td>2.0</td>\n",
              "      <td>0.5</td>\n",
              "      <td>0.50</td>\n",
              "      <td>NaN</td>\n",
              "    </tr>\n",
              "    <tr>\n",
              "      <th>160</th>\n",
              "      <td>2018</td>\n",
              "      <td>Government</td>\n",
              "      <td>US Congress</td>\n",
              "      <td>20.0</td>\n",
              "      <td>80.0</td>\n",
              "      <td>80.0</td>\n",
              "      <td>3.0</td>\n",
              "      <td>7.0</td>\n",
              "      <td>9.0</td>\n",
              "      <td>NaN</td>\n",
              "      <td>1.00</td>\n",
              "      <td>NaN</td>\n",
              "    </tr>\n",
              "  </tbody>\n",
              "</table>\n",
              "<p>66 rows × 12 columns</p>\n",
              "</div>"
            ],
            "text/plain": [
              "     Date          Type              Company  Female%  Male%  %White  %Asian  \\\n",
              "63   2018       Country      U.S. Population     51.0   49.0    61.0     5.7   \n",
              "64   2018  Social Media             Facebook     35.0   65.0    49.0    40.0   \n",
              "65   2018  Social Media            Instagram     35.0   65.0    49.0    40.0   \n",
              "66   2018  Social Media              Google+     31.0   69.0    56.0    35.0   \n",
              "67   2018  Social Media              YouTube     31.0   69.0    56.0    35.0   \n",
              "..    ...           ...                  ...      ...    ...     ...     ...   \n",
              "156  2018          Tech              Netflix     43.0   57.0    49.0    24.0   \n",
              "157  2018          Tech                 Yelp     54.0   46.0    62.0    15.0   \n",
              "158  2018        Entity  DiversityInc top 50     44.0   56.0    78.0     6.0   \n",
              "159  2018        Entity     Fortune 500 CEOs      6.0   94.0    73.0    21.0   \n",
              "160  2018    Government          US Congress     20.0   80.0    80.0     3.0   \n",
              "\n",
              "     %Latino  %Black  %Multi %Other  %Undeclared  \n",
              "63      17.8    13.3     2.6  0.20           NaN  \n",
              "64       5.0     3.0     3.0  1.00           NaN  \n",
              "65       5.0     3.0     3.0  1.00           NaN  \n",
              "66       4.0     2.0     4.0  1.00           NaN  \n",
              "67       4.0     2.0     4.0  1.00           NaN  \n",
              "..       ...     ...     ...    ...          ...  \n",
              "156      6.0     4.0     NaN   4.00         13.0  \n",
              "157     10.0     6.0     5.0  2.00           NaN  \n",
              "158      7.0     9.0     NaN    NaN          NaN  \n",
              "159      3.0     2.0     0.5  0.50           NaN  \n",
              "160      7.0     9.0     NaN  1.00           NaN  \n",
              "\n",
              "[66 rows x 12 columns]"
            ]
          },
          "execution_count": 3,
          "metadata": {},
          "output_type": "execute_result"
        }
      ],
      "source": [
        "df_2018 = dados_csv[dados_csv['Date']==2018]\n",
        "df_2018"
      ]
    },
    {
      "cell_type": "markdown",
      "metadata": {},
      "source": [
        "Criamos uma lista com as 15 empresas mais conhecidas da nossa tabela\n",
        "\n",
        "Logo depois criamos duas listas para receber as médias do percentual masculino e feminino"
      ]
    },
    {
      "cell_type": "code",
      "execution_count": 4,
      "metadata": {
        "id": "N1pd_fN4l85W"
      },
      "outputs": [],
      "source": [
        "# criando as listas para receber os dados\n",
        "\n",
        "# lista das empresas escolhidas\n",
        "empresas = ['Amazon','Apple','Dell','eBay','Facebook','Google','HP','Instagram','Intel','LinkedIn','Microsoft','Netflix','Nvidia','Twitter','YouTube'] \n",
        "\n",
        "media_female_empresa =[]   # lista que receberá as medias do percentual da presenca feminina nas empresas\n",
        "media_male_empresa = [] # lista que receberá as medias do percentual da presenca masculina nas empresas\n"
      ]
    },
    {
      "cell_type": "markdown",
      "metadata": {},
      "source": [
        "Criamos um laço de repetição para cada empresa que escolhemos lá em cima\n",
        "\n",
        "na linha -> df_2018_empresa = df_2018[df_2018['Company'] == x] o \"x\" será cada empresa da nossa lista \"empresas\" que criamos lá em cima, então na primeira repetição o nome será 'Amazon', então ele vai puxar os dados das colunas 'Female%' e 'Male% para transformar em uma lista mas somente aonde os dados forem da empresa Amazon, logo depois ele irá fazer uma média dos percentuais femininos e masculinos  e usar o comando .append para jogar esse valor na nossa lista vazia que criamos lá em cima\n",
        "\n",
        "Após tudo isso o comando vai voltar para o primeiro \"for\" e repetirá o mesmo processo mas com outra empresa."
      ]
    },
    {
      "cell_type": "markdown",
      "metadata": {},
      "source": [
        "# Comandos\n",
        "\n",
        ".append() usamos ele no nosso código para jogar os valores das nossas médias naquelas listas vazias que criamos lá em cima\n"
      ]
    },
    {
      "cell_type": "code",
      "execution_count": 5,
      "metadata": {
        "colab": {
          "base_uri": "https://localhost:8080/"
        },
        "id": "EXSaK6huY4v-",
        "outputId": "9a0030c4-4c58-41ac-ee8f-7403efdc5b83"
      },
      "outputs": [
        {
          "name": "stdout",
          "output_type": "stream",
          "text": [
            "['Amazon', 'Apple', 'Dell', 'eBay', 'Facebook', 'Google', 'HP', 'Instagram', 'Intel', 'LinkedIn', 'Microsoft', 'Netflix', 'Nvidia', 'Twitter', 'YouTube']\n",
            "[39.0, 32.0, 28.0, 39.0, 35.0, 31.0, 37.0, 35.0, 26.25, 42.0, 26.0, 43.0, 17.0, 37.7, 31.0]\n",
            "[61.0, 68.0, 72.0, 61.0, 65.0, 69.0, 63.0, 65.0, 73.7, 58.0, 74.0, 57.0, 83.0, 62.3, 69.0]\n"
          ]
        }
      ],
      "source": [
        "#Selecionando os dados de cada empresa\n",
        "\n",
        "for x in empresas:\n",
        "  df_2018_empresa = df_2018[df_2018['Company'] == x] \n",
        "  female_perc = df_2018_empresa['Female%'].tolist() # tranformando o dataframe do percentual feminino em lista.\n",
        "  male_perc = df_2018_empresa['Male%'].tolist() # tranformando o dataframe do percentual feminino em lista.\n",
        "  \n",
        "  # utilização de um laço for para calcular a média dos percentuais\n",
        "  soma_female_perc = 0\n",
        "  for i in range (len(female_perc)):\n",
        "    soma_female_perc = soma_female_perc + female_perc[i]\n",
        "  media_female_perc = soma_female_perc/len(female_perc)\n",
        "  media_female_empresa.append(media_female_perc) \n",
        "\n",
        "  # utilização de um laço for para calcular a média dos percentuais\n",
        "  soma_male_perc = 0\n",
        "  for i in range (len(male_perc)):\n",
        "    soma_male_perc = soma_male_perc + male_perc[i]\n",
        "  media_male_perc = soma_male_perc/len(male_perc)\n",
        "  media_male_empresa.append(media_male_perc)\n",
        "\n",
        "print(empresas)\n",
        "print(media_female_empresa)\n",
        "print(media_male_empresa)"
      ]
    },
    {
      "cell_type": "markdown",
      "metadata": {},
      "source": [
        "# Criando a figura\n",
        "\n",
        "Usamos o comando go.Figure para iniciar nossa figura, passamos para ele no parâmetro \"data=\" dois gráficos de barra para que seja possivel fazermos as barras duplas.\n",
        "\n",
        "Para que o gráfico realmente saio como barras duplas, usamos o comando .update_layout() e colocamos o barmode='group'"
      ]
    },
    {
      "cell_type": "code",
      "execution_count": 6,
      "metadata": {
        "colab": {
          "base_uri": "https://localhost:8080/",
          "height": 542
        },
        "id": "xaTtEOYNf4if",
        "outputId": "76f69555-620f-4348-f6d4-d9cada045282"
      },
      "outputs": [
        {
          "data": {
            "application/vnd.plotly.v1+json": {
              "config": {
                "plotlyServerURL": "https://plot.ly"
              },
              "data": [
                {
                  "name": "% Feminino",
                  "orientation": "h",
                  "type": "bar",
                  "x": [
                    39,
                    32,
                    28,
                    39,
                    35,
                    31,
                    37,
                    35,
                    26.25,
                    42,
                    26,
                    43,
                    17,
                    37.7,
                    31
                  ],
                  "y": [
                    "Amazon",
                    "Apple",
                    "Dell",
                    "eBay",
                    "Facebook",
                    "Google",
                    "HP",
                    "Instagram",
                    "Intel",
                    "LinkedIn",
                    "Microsoft",
                    "Netflix",
                    "Nvidia",
                    "Twitter",
                    "YouTube"
                  ]
                },
                {
                  "name": "% Masculino",
                  "orientation": "h",
                  "type": "bar",
                  "x": [
                    61,
                    68,
                    72,
                    61,
                    65,
                    69,
                    63,
                    65,
                    73.7,
                    58,
                    74,
                    57,
                    83,
                    62.3,
                    69
                  ],
                  "y": [
                    "Amazon",
                    "Apple",
                    "Dell",
                    "eBay",
                    "Facebook",
                    "Google",
                    "HP",
                    "Instagram",
                    "Intel",
                    "LinkedIn",
                    "Microsoft",
                    "Netflix",
                    "Nvidia",
                    "Twitter",
                    "YouTube"
                  ]
                }
              ],
              "layout": {
                "barmode": "group",
                "template": {
                  "data": {
                    "bar": [
                      {
                        "error_x": {
                          "color": "#2a3f5f"
                        },
                        "error_y": {
                          "color": "#2a3f5f"
                        },
                        "marker": {
                          "line": {
                            "color": "#E5ECF6",
                            "width": 0.5
                          },
                          "pattern": {
                            "fillmode": "overlay",
                            "size": 10,
                            "solidity": 0.2
                          }
                        },
                        "type": "bar"
                      }
                    ],
                    "barpolar": [
                      {
                        "marker": {
                          "line": {
                            "color": "#E5ECF6",
                            "width": 0.5
                          },
                          "pattern": {
                            "fillmode": "overlay",
                            "size": 10,
                            "solidity": 0.2
                          }
                        },
                        "type": "barpolar"
                      }
                    ],
                    "carpet": [
                      {
                        "aaxis": {
                          "endlinecolor": "#2a3f5f",
                          "gridcolor": "white",
                          "linecolor": "white",
                          "minorgridcolor": "white",
                          "startlinecolor": "#2a3f5f"
                        },
                        "baxis": {
                          "endlinecolor": "#2a3f5f",
                          "gridcolor": "white",
                          "linecolor": "white",
                          "minorgridcolor": "white",
                          "startlinecolor": "#2a3f5f"
                        },
                        "type": "carpet"
                      }
                    ],
                    "choropleth": [
                      {
                        "colorbar": {
                          "outlinewidth": 0,
                          "ticks": ""
                        },
                        "type": "choropleth"
                      }
                    ],
                    "contour": [
                      {
                        "colorbar": {
                          "outlinewidth": 0,
                          "ticks": ""
                        },
                        "colorscale": [
                          [
                            0,
                            "#0d0887"
                          ],
                          [
                            0.1111111111111111,
                            "#46039f"
                          ],
                          [
                            0.2222222222222222,
                            "#7201a8"
                          ],
                          [
                            0.3333333333333333,
                            "#9c179e"
                          ],
                          [
                            0.4444444444444444,
                            "#bd3786"
                          ],
                          [
                            0.5555555555555556,
                            "#d8576b"
                          ],
                          [
                            0.6666666666666666,
                            "#ed7953"
                          ],
                          [
                            0.7777777777777778,
                            "#fb9f3a"
                          ],
                          [
                            0.8888888888888888,
                            "#fdca26"
                          ],
                          [
                            1,
                            "#f0f921"
                          ]
                        ],
                        "type": "contour"
                      }
                    ],
                    "contourcarpet": [
                      {
                        "colorbar": {
                          "outlinewidth": 0,
                          "ticks": ""
                        },
                        "type": "contourcarpet"
                      }
                    ],
                    "heatmap": [
                      {
                        "colorbar": {
                          "outlinewidth": 0,
                          "ticks": ""
                        },
                        "colorscale": [
                          [
                            0,
                            "#0d0887"
                          ],
                          [
                            0.1111111111111111,
                            "#46039f"
                          ],
                          [
                            0.2222222222222222,
                            "#7201a8"
                          ],
                          [
                            0.3333333333333333,
                            "#9c179e"
                          ],
                          [
                            0.4444444444444444,
                            "#bd3786"
                          ],
                          [
                            0.5555555555555556,
                            "#d8576b"
                          ],
                          [
                            0.6666666666666666,
                            "#ed7953"
                          ],
                          [
                            0.7777777777777778,
                            "#fb9f3a"
                          ],
                          [
                            0.8888888888888888,
                            "#fdca26"
                          ],
                          [
                            1,
                            "#f0f921"
                          ]
                        ],
                        "type": "heatmap"
                      }
                    ],
                    "heatmapgl": [
                      {
                        "colorbar": {
                          "outlinewidth": 0,
                          "ticks": ""
                        },
                        "colorscale": [
                          [
                            0,
                            "#0d0887"
                          ],
                          [
                            0.1111111111111111,
                            "#46039f"
                          ],
                          [
                            0.2222222222222222,
                            "#7201a8"
                          ],
                          [
                            0.3333333333333333,
                            "#9c179e"
                          ],
                          [
                            0.4444444444444444,
                            "#bd3786"
                          ],
                          [
                            0.5555555555555556,
                            "#d8576b"
                          ],
                          [
                            0.6666666666666666,
                            "#ed7953"
                          ],
                          [
                            0.7777777777777778,
                            "#fb9f3a"
                          ],
                          [
                            0.8888888888888888,
                            "#fdca26"
                          ],
                          [
                            1,
                            "#f0f921"
                          ]
                        ],
                        "type": "heatmapgl"
                      }
                    ],
                    "histogram": [
                      {
                        "marker": {
                          "pattern": {
                            "fillmode": "overlay",
                            "size": 10,
                            "solidity": 0.2
                          }
                        },
                        "type": "histogram"
                      }
                    ],
                    "histogram2d": [
                      {
                        "colorbar": {
                          "outlinewidth": 0,
                          "ticks": ""
                        },
                        "colorscale": [
                          [
                            0,
                            "#0d0887"
                          ],
                          [
                            0.1111111111111111,
                            "#46039f"
                          ],
                          [
                            0.2222222222222222,
                            "#7201a8"
                          ],
                          [
                            0.3333333333333333,
                            "#9c179e"
                          ],
                          [
                            0.4444444444444444,
                            "#bd3786"
                          ],
                          [
                            0.5555555555555556,
                            "#d8576b"
                          ],
                          [
                            0.6666666666666666,
                            "#ed7953"
                          ],
                          [
                            0.7777777777777778,
                            "#fb9f3a"
                          ],
                          [
                            0.8888888888888888,
                            "#fdca26"
                          ],
                          [
                            1,
                            "#f0f921"
                          ]
                        ],
                        "type": "histogram2d"
                      }
                    ],
                    "histogram2dcontour": [
                      {
                        "colorbar": {
                          "outlinewidth": 0,
                          "ticks": ""
                        },
                        "colorscale": [
                          [
                            0,
                            "#0d0887"
                          ],
                          [
                            0.1111111111111111,
                            "#46039f"
                          ],
                          [
                            0.2222222222222222,
                            "#7201a8"
                          ],
                          [
                            0.3333333333333333,
                            "#9c179e"
                          ],
                          [
                            0.4444444444444444,
                            "#bd3786"
                          ],
                          [
                            0.5555555555555556,
                            "#d8576b"
                          ],
                          [
                            0.6666666666666666,
                            "#ed7953"
                          ],
                          [
                            0.7777777777777778,
                            "#fb9f3a"
                          ],
                          [
                            0.8888888888888888,
                            "#fdca26"
                          ],
                          [
                            1,
                            "#f0f921"
                          ]
                        ],
                        "type": "histogram2dcontour"
                      }
                    ],
                    "mesh3d": [
                      {
                        "colorbar": {
                          "outlinewidth": 0,
                          "ticks": ""
                        },
                        "type": "mesh3d"
                      }
                    ],
                    "parcoords": [
                      {
                        "line": {
                          "colorbar": {
                            "outlinewidth": 0,
                            "ticks": ""
                          }
                        },
                        "type": "parcoords"
                      }
                    ],
                    "pie": [
                      {
                        "automargin": true,
                        "type": "pie"
                      }
                    ],
                    "scatter": [
                      {
                        "marker": {
                          "colorbar": {
                            "outlinewidth": 0,
                            "ticks": ""
                          }
                        },
                        "type": "scatter"
                      }
                    ],
                    "scatter3d": [
                      {
                        "line": {
                          "colorbar": {
                            "outlinewidth": 0,
                            "ticks": ""
                          }
                        },
                        "marker": {
                          "colorbar": {
                            "outlinewidth": 0,
                            "ticks": ""
                          }
                        },
                        "type": "scatter3d"
                      }
                    ],
                    "scattercarpet": [
                      {
                        "marker": {
                          "colorbar": {
                            "outlinewidth": 0,
                            "ticks": ""
                          }
                        },
                        "type": "scattercarpet"
                      }
                    ],
                    "scattergeo": [
                      {
                        "marker": {
                          "colorbar": {
                            "outlinewidth": 0,
                            "ticks": ""
                          }
                        },
                        "type": "scattergeo"
                      }
                    ],
                    "scattergl": [
                      {
                        "marker": {
                          "colorbar": {
                            "outlinewidth": 0,
                            "ticks": ""
                          }
                        },
                        "type": "scattergl"
                      }
                    ],
                    "scattermapbox": [
                      {
                        "marker": {
                          "colorbar": {
                            "outlinewidth": 0,
                            "ticks": ""
                          }
                        },
                        "type": "scattermapbox"
                      }
                    ],
                    "scatterpolar": [
                      {
                        "marker": {
                          "colorbar": {
                            "outlinewidth": 0,
                            "ticks": ""
                          }
                        },
                        "type": "scatterpolar"
                      }
                    ],
                    "scatterpolargl": [
                      {
                        "marker": {
                          "colorbar": {
                            "outlinewidth": 0,
                            "ticks": ""
                          }
                        },
                        "type": "scatterpolargl"
                      }
                    ],
                    "scatterternary": [
                      {
                        "marker": {
                          "colorbar": {
                            "outlinewidth": 0,
                            "ticks": ""
                          }
                        },
                        "type": "scatterternary"
                      }
                    ],
                    "surface": [
                      {
                        "colorbar": {
                          "outlinewidth": 0,
                          "ticks": ""
                        },
                        "colorscale": [
                          [
                            0,
                            "#0d0887"
                          ],
                          [
                            0.1111111111111111,
                            "#46039f"
                          ],
                          [
                            0.2222222222222222,
                            "#7201a8"
                          ],
                          [
                            0.3333333333333333,
                            "#9c179e"
                          ],
                          [
                            0.4444444444444444,
                            "#bd3786"
                          ],
                          [
                            0.5555555555555556,
                            "#d8576b"
                          ],
                          [
                            0.6666666666666666,
                            "#ed7953"
                          ],
                          [
                            0.7777777777777778,
                            "#fb9f3a"
                          ],
                          [
                            0.8888888888888888,
                            "#fdca26"
                          ],
                          [
                            1,
                            "#f0f921"
                          ]
                        ],
                        "type": "surface"
                      }
                    ],
                    "table": [
                      {
                        "cells": {
                          "fill": {
                            "color": "#EBF0F8"
                          },
                          "line": {
                            "color": "white"
                          }
                        },
                        "header": {
                          "fill": {
                            "color": "#C8D4E3"
                          },
                          "line": {
                            "color": "white"
                          }
                        },
                        "type": "table"
                      }
                    ]
                  },
                  "layout": {
                    "annotationdefaults": {
                      "arrowcolor": "#2a3f5f",
                      "arrowhead": 0,
                      "arrowwidth": 1
                    },
                    "autotypenumbers": "strict",
                    "coloraxis": {
                      "colorbar": {
                        "outlinewidth": 0,
                        "ticks": ""
                      }
                    },
                    "colorscale": {
                      "diverging": [
                        [
                          0,
                          "#8e0152"
                        ],
                        [
                          0.1,
                          "#c51b7d"
                        ],
                        [
                          0.2,
                          "#de77ae"
                        ],
                        [
                          0.3,
                          "#f1b6da"
                        ],
                        [
                          0.4,
                          "#fde0ef"
                        ],
                        [
                          0.5,
                          "#f7f7f7"
                        ],
                        [
                          0.6,
                          "#e6f5d0"
                        ],
                        [
                          0.7,
                          "#b8e186"
                        ],
                        [
                          0.8,
                          "#7fbc41"
                        ],
                        [
                          0.9,
                          "#4d9221"
                        ],
                        [
                          1,
                          "#276419"
                        ]
                      ],
                      "sequential": [
                        [
                          0,
                          "#0d0887"
                        ],
                        [
                          0.1111111111111111,
                          "#46039f"
                        ],
                        [
                          0.2222222222222222,
                          "#7201a8"
                        ],
                        [
                          0.3333333333333333,
                          "#9c179e"
                        ],
                        [
                          0.4444444444444444,
                          "#bd3786"
                        ],
                        [
                          0.5555555555555556,
                          "#d8576b"
                        ],
                        [
                          0.6666666666666666,
                          "#ed7953"
                        ],
                        [
                          0.7777777777777778,
                          "#fb9f3a"
                        ],
                        [
                          0.8888888888888888,
                          "#fdca26"
                        ],
                        [
                          1,
                          "#f0f921"
                        ]
                      ],
                      "sequentialminus": [
                        [
                          0,
                          "#0d0887"
                        ],
                        [
                          0.1111111111111111,
                          "#46039f"
                        ],
                        [
                          0.2222222222222222,
                          "#7201a8"
                        ],
                        [
                          0.3333333333333333,
                          "#9c179e"
                        ],
                        [
                          0.4444444444444444,
                          "#bd3786"
                        ],
                        [
                          0.5555555555555556,
                          "#d8576b"
                        ],
                        [
                          0.6666666666666666,
                          "#ed7953"
                        ],
                        [
                          0.7777777777777778,
                          "#fb9f3a"
                        ],
                        [
                          0.8888888888888888,
                          "#fdca26"
                        ],
                        [
                          1,
                          "#f0f921"
                        ]
                      ]
                    },
                    "colorway": [
                      "#636efa",
                      "#EF553B",
                      "#00cc96",
                      "#ab63fa",
                      "#FFA15A",
                      "#19d3f3",
                      "#FF6692",
                      "#B6E880",
                      "#FF97FF",
                      "#FECB52"
                    ],
                    "font": {
                      "color": "#2a3f5f"
                    },
                    "geo": {
                      "bgcolor": "white",
                      "lakecolor": "white",
                      "landcolor": "#E5ECF6",
                      "showlakes": true,
                      "showland": true,
                      "subunitcolor": "white"
                    },
                    "hoverlabel": {
                      "align": "left"
                    },
                    "hovermode": "closest",
                    "mapbox": {
                      "style": "light"
                    },
                    "paper_bgcolor": "white",
                    "plot_bgcolor": "#E5ECF6",
                    "polar": {
                      "angularaxis": {
                        "gridcolor": "white",
                        "linecolor": "white",
                        "ticks": ""
                      },
                      "bgcolor": "#E5ECF6",
                      "radialaxis": {
                        "gridcolor": "white",
                        "linecolor": "white",
                        "ticks": ""
                      }
                    },
                    "scene": {
                      "xaxis": {
                        "backgroundcolor": "#E5ECF6",
                        "gridcolor": "white",
                        "gridwidth": 2,
                        "linecolor": "white",
                        "showbackground": true,
                        "ticks": "",
                        "zerolinecolor": "white"
                      },
                      "yaxis": {
                        "backgroundcolor": "#E5ECF6",
                        "gridcolor": "white",
                        "gridwidth": 2,
                        "linecolor": "white",
                        "showbackground": true,
                        "ticks": "",
                        "zerolinecolor": "white"
                      },
                      "zaxis": {
                        "backgroundcolor": "#E5ECF6",
                        "gridcolor": "white",
                        "gridwidth": 2,
                        "linecolor": "white",
                        "showbackground": true,
                        "ticks": "",
                        "zerolinecolor": "white"
                      }
                    },
                    "shapedefaults": {
                      "line": {
                        "color": "#2a3f5f"
                      }
                    },
                    "ternary": {
                      "aaxis": {
                        "gridcolor": "white",
                        "linecolor": "white",
                        "ticks": ""
                      },
                      "baxis": {
                        "gridcolor": "white",
                        "linecolor": "white",
                        "ticks": ""
                      },
                      "bgcolor": "#E5ECF6",
                      "caxis": {
                        "gridcolor": "white",
                        "linecolor": "white",
                        "ticks": ""
                      }
                    },
                    "title": {
                      "x": 0.05
                    },
                    "xaxis": {
                      "automargin": true,
                      "gridcolor": "white",
                      "linecolor": "white",
                      "ticks": "",
                      "title": {
                        "standoff": 15
                      },
                      "zerolinecolor": "white",
                      "zerolinewidth": 2
                    },
                    "yaxis": {
                      "automargin": true,
                      "gridcolor": "white",
                      "linecolor": "white",
                      "ticks": "",
                      "title": {
                        "standoff": 15
                      },
                      "zerolinecolor": "white",
                      "zerolinewidth": 2
                    }
                  }
                },
                "title": {
                  "text": "Distribuição entre homens e mulheres contratados pelas principais empresas de tecnologia"
                }
              }
            }
          },
          "metadata": {},
          "output_type": "display_data"
        }
      ],
      "source": [
        "fig = go.Figure(data=[\n",
        "    go.Bar(name='% Feminino', x=media_female_empresa, y=empresas, orientation='h'), # orientation='h' é para dizer que queremos na horizontal\n",
        "    go.Bar(name='% Masculino', x=media_male_empresa, y=empresas, orientation='h')\n",
        "])\n",
        "# mudando o layout parra barras duplas\n",
        "fig.update_layout(barmode='group', title='Distribuição entre homens e mulheres contratados pelas principais empresas de tecnologia')\n",
        "fig.show()"
      ]
    }
  ],
  "metadata": {
    "colab": {
      "collapsed_sections": [],
      "include_colab_link": true,
      "name": "03_Diversidade_homens_mulheres_empresas_teste.ipynb",
      "provenance": []
    },
    "kernelspec": {
      "display_name": "Python 3",
      "name": "python3"
    },
    "language_info": {
      "codemirror_mode": {
        "name": "ipython",
        "version": 3
      },
      "file_extension": ".py",
      "mimetype": "text/x-python",
      "name": "python",
      "nbconvert_exporter": "python",
      "pygments_lexer": "ipython3",
      "version": "3.10.2"
    }
  },
  "nbformat": 4,
  "nbformat_minor": 0
}
