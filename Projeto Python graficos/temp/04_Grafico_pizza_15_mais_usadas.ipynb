{
  "cells": [
    {
      "cell_type": "markdown",
      "metadata": {
        "colab_type": "text",
        "id": "view-in-github"
      },
      "source": [
        "<a href=\"https://colab.research.google.com/github/TrabalhoAPC2021-02/Trabalho_Final/blob/main/colas/04_Grafico_pizza_15_mais_usadas.ipynb\" target=\"_parent\"><img src=\"https://colab.research.google.com/assets/colab-badge.svg\" alt=\"Open In Colab\"/></a>"
      ]
    },
    {
      "cell_type": "markdown",
      "metadata": {
        "id": "EduwrcfJKphQ"
      },
      "source": [
        "# Importanto as bibliotecas\n",
        "Pandas - Biblioteca para leitura, tratamento e manipulação de dados: https://pandas.pydata.org/docs/\n",
        "\n",
        "Plotly - Biblioteca para a criação e edição de gráficos: https://plotly.com/python/\n"
      ]
    },
    {
      "cell_type": "code",
      "execution_count": 1,
      "metadata": {
        "id": "rSUTEoUPftaG"
      },
      "outputs": [],
      "source": [
        "# bibliotecas\n",
        "import plotly.express as px # para plotar o grafico\n",
        "import pandas as pd # para importar os dados da tabela excel ou .csv\n"
      ]
    },
    {
      "cell_type": "markdown",
      "metadata": {},
      "source": [
        "Nessa tabela nós trabalhamos com porcentagens.\n",
        "\n",
        "São as porcentagens de uso das linguagens por mês em cada ano\n",
        "\n",
        "A única coluna diferente é a \"Date\", a primeira, o resto das colunas são as linguagens\n",
        "\n",
        "Nesse gráfico usamos para pegar pelas 15 mais usadas."
      ]
    },
    {
      "cell_type": "markdown",
      "metadata": {
        "id": "63O1ImwWQKMs"
      },
      "source": [
        "A célula abaixo carrega o arquivo .csv em um dataframe chamado df\n",
        "\n",
        "A linha 2 puxa o arquivo de dados direto do github\n",
        "\n",
        "A linha 3 só mostra o dataframe na tela"
      ]
    },
    {
      "cell_type": "code",
      "execution_count": 2,
      "metadata": {
        "colab": {
          "base_uri": "https://localhost:8080/",
          "height": 644
        },
        "id": "iC9ualrvi31y",
        "outputId": "cc210de7-e1c5-4378-f35c-b7c2a2fddf9d"
      },
      "outputs": [
        {
          "name": "stderr",
          "output_type": "stream",
          "text": [
            "/usr/local/lib/python3.7/dist-packages/IPython/core/interactiveshell.py:2882: FutureWarning: In a future version of pandas all arguments of read_csv except for the argument 'filepath_or_buffer' will be keyword-only\n",
            "  exec(code_obj, self.user_global_ns, self.user_ns)\n"
          ]
        },
        {
          "data": {
            "text/html": [
              "\n",
              "  <div id=\"df-79688d48-1b6f-4653-9b3f-c65a88c41875\">\n",
              "    <div class=\"colab-df-container\">\n",
              "      <div>\n",
              "<style scoped>\n",
              "    .dataframe tbody tr th:only-of-type {\n",
              "        vertical-align: middle;\n",
              "    }\n",
              "\n",
              "    .dataframe tbody tr th {\n",
              "        vertical-align: top;\n",
              "    }\n",
              "\n",
              "    .dataframe thead th {\n",
              "        text-align: right;\n",
              "    }\n",
              "</style>\n",
              "<table border=\"1\" class=\"dataframe\">\n",
              "  <thead>\n",
              "    <tr style=\"text-align: right;\">\n",
              "      <th></th>\n",
              "      <th>Date</th>\n",
              "      <th>Abap</th>\n",
              "      <th>Ada</th>\n",
              "      <th>C/C++</th>\n",
              "      <th>C#</th>\n",
              "      <th>Cobol</th>\n",
              "      <th>Dart</th>\n",
              "      <th>Delphi/Pascal</th>\n",
              "      <th>Go</th>\n",
              "      <th>Groovy</th>\n",
              "      <th>...</th>\n",
              "      <th>PHP</th>\n",
              "      <th>Python</th>\n",
              "      <th>R</th>\n",
              "      <th>Ruby</th>\n",
              "      <th>Rust</th>\n",
              "      <th>Scala</th>\n",
              "      <th>Swift</th>\n",
              "      <th>TypeScript</th>\n",
              "      <th>VBA</th>\n",
              "      <th>Visual Basic</th>\n",
              "    </tr>\n",
              "  </thead>\n",
              "  <tbody>\n",
              "    <tr>\n",
              "      <th>0</th>\n",
              "      <td>January 2005</td>\n",
              "      <td>0.380</td>\n",
              "      <td>0.38</td>\n",
              "      <td>9.70</td>\n",
              "      <td>5.225</td>\n",
              "      <td>0.55</td>\n",
              "      <td>0.00</td>\n",
              "      <td>2.650</td>\n",
              "      <td>0.000</td>\n",
              "      <td>0.11</td>\n",
              "      <td>...</td>\n",
              "      <td>19.810</td>\n",
              "      <td>2.91</td>\n",
              "      <td>0.38</td>\n",
              "      <td>0.47</td>\n",
              "      <td>0.15</td>\n",
              "      <td>0.03</td>\n",
              "      <td>0.00</td>\n",
              "      <td>0.00</td>\n",
              "      <td>1.51</td>\n",
              "      <td>7.79</td>\n",
              "    </tr>\n",
              "    <tr>\n",
              "      <th>1</th>\n",
              "      <td>February 2005</td>\n",
              "      <td>0.370</td>\n",
              "      <td>0.38</td>\n",
              "      <td>9.87</td>\n",
              "      <td>5.210</td>\n",
              "      <td>0.49</td>\n",
              "      <td>0.00</td>\n",
              "      <td>2.657</td>\n",
              "      <td>0.000</td>\n",
              "      <td>0.06</td>\n",
              "      <td>...</td>\n",
              "      <td>19.630</td>\n",
              "      <td>2.87</td>\n",
              "      <td>0.38</td>\n",
              "      <td>0.44</td>\n",
              "      <td>0.15</td>\n",
              "      <td>0.03</td>\n",
              "      <td>0.00</td>\n",
              "      <td>0.00</td>\n",
              "      <td>1.45</td>\n",
              "      <td>7.67</td>\n",
              "    </tr>\n",
              "    <tr>\n",
              "      <th>2</th>\n",
              "      <td>March 2005</td>\n",
              "      <td>0.337</td>\n",
              "      <td>0.37</td>\n",
              "      <td>9.87</td>\n",
              "      <td>5.380</td>\n",
              "      <td>0.44</td>\n",
              "      <td>0.00</td>\n",
              "      <td>2.650</td>\n",
              "      <td>0.000</td>\n",
              "      <td>0.08</td>\n",
              "      <td>...</td>\n",
              "      <td>19.540</td>\n",
              "      <td>2.81</td>\n",
              "      <td>0.42</td>\n",
              "      <td>0.45</td>\n",
              "      <td>0.13</td>\n",
              "      <td>0.03</td>\n",
              "      <td>0.00</td>\n",
              "      <td>0.00</td>\n",
              "      <td>1.44</td>\n",
              "      <td>7.68</td>\n",
              "    </tr>\n",
              "    <tr>\n",
              "      <th>3</th>\n",
              "      <td>April 2005</td>\n",
              "      <td>0.337</td>\n",
              "      <td>0.36</td>\n",
              "      <td>9.85</td>\n",
              "      <td>5.420</td>\n",
              "      <td>0.41</td>\n",
              "      <td>0.00</td>\n",
              "      <td>2.560</td>\n",
              "      <td>0.000</td>\n",
              "      <td>0.08</td>\n",
              "      <td>...</td>\n",
              "      <td>19.930</td>\n",
              "      <td>2.78</td>\n",
              "      <td>0.40</td>\n",
              "      <td>0.43</td>\n",
              "      <td>0.11</td>\n",
              "      <td>0.02</td>\n",
              "      <td>0.00</td>\n",
              "      <td>0.00</td>\n",
              "      <td>1.35</td>\n",
              "      <td>7.52</td>\n",
              "    </tr>\n",
              "    <tr>\n",
              "      <th>4</th>\n",
              "      <td>May 2005</td>\n",
              "      <td>0.350</td>\n",
              "      <td>0.37</td>\n",
              "      <td>9.71</td>\n",
              "      <td>5.620</td>\n",
              "      <td>0.40</td>\n",
              "      <td>0.00</td>\n",
              "      <td>2.500</td>\n",
              "      <td>0.000</td>\n",
              "      <td>0.09</td>\n",
              "      <td>...</td>\n",
              "      <td>19.860</td>\n",
              "      <td>2.88</td>\n",
              "      <td>0.41</td>\n",
              "      <td>0.47</td>\n",
              "      <td>0.09</td>\n",
              "      <td>0.02</td>\n",
              "      <td>0.00</td>\n",
              "      <td>0.00</td>\n",
              "      <td>1.47</td>\n",
              "      <td>7.66</td>\n",
              "    </tr>\n",
              "    <tr>\n",
              "      <th>...</th>\n",
              "      <td>...</td>\n",
              "      <td>...</td>\n",
              "      <td>...</td>\n",
              "      <td>...</td>\n",
              "      <td>...</td>\n",
              "      <td>...</td>\n",
              "      <td>...</td>\n",
              "      <td>...</td>\n",
              "      <td>...</td>\n",
              "      <td>...</td>\n",
              "      <td>...</td>\n",
              "      <td>...</td>\n",
              "      <td>...</td>\n",
              "      <td>...</td>\n",
              "      <td>...</td>\n",
              "      <td>...</td>\n",
              "      <td>...</td>\n",
              "      <td>...</td>\n",
              "      <td>...</td>\n",
              "      <td>...</td>\n",
              "      <td>...</td>\n",
              "    </tr>\n",
              "    <tr>\n",
              "      <th>199</th>\n",
              "      <td>August 2021</td>\n",
              "      <td>0.490</td>\n",
              "      <td>0.54</td>\n",
              "      <td>6.50</td>\n",
              "      <td>6.990</td>\n",
              "      <td>0.31</td>\n",
              "      <td>0.57</td>\n",
              "      <td>0.000</td>\n",
              "      <td>1.500</td>\n",
              "      <td>0.47</td>\n",
              "      <td>...</td>\n",
              "      <td>6.310</td>\n",
              "      <td>30.74</td>\n",
              "      <td>3.76</td>\n",
              "      <td>1.03</td>\n",
              "      <td>0.77</td>\n",
              "      <td>0.53</td>\n",
              "      <td>1.63</td>\n",
              "      <td>1.71</td>\n",
              "      <td>1.27</td>\n",
              "      <td>0.73</td>\n",
              "    </tr>\n",
              "    <tr>\n",
              "      <th>200</th>\n",
              "      <td>September 2021</td>\n",
              "      <td>0.500</td>\n",
              "      <td>0.54</td>\n",
              "      <td>6.68</td>\n",
              "      <td>7.170</td>\n",
              "      <td>0.35</td>\n",
              "      <td>0.58</td>\n",
              "      <td>0.000</td>\n",
              "      <td>1.568</td>\n",
              "      <td>0.47</td>\n",
              "      <td>...</td>\n",
              "      <td>6.370</td>\n",
              "      <td>30.11</td>\n",
              "      <td>3.93</td>\n",
              "      <td>1.01</td>\n",
              "      <td>0.77</td>\n",
              "      <td>0.49</td>\n",
              "      <td>1.64</td>\n",
              "      <td>1.59</td>\n",
              "      <td>1.27</td>\n",
              "      <td>0.72</td>\n",
              "    </tr>\n",
              "    <tr>\n",
              "      <th>201</th>\n",
              "      <td>October 2021</td>\n",
              "      <td>0.530</td>\n",
              "      <td>0.57</td>\n",
              "      <td>6.99</td>\n",
              "      <td>7.380</td>\n",
              "      <td>0.33</td>\n",
              "      <td>0.54</td>\n",
              "      <td>0.000</td>\n",
              "      <td>1.540</td>\n",
              "      <td>0.52</td>\n",
              "      <td>...</td>\n",
              "      <td>6.270</td>\n",
              "      <td>30.14</td>\n",
              "      <td>3.73</td>\n",
              "      <td>0.98</td>\n",
              "      <td>0.74</td>\n",
              "      <td>0.49</td>\n",
              "      <td>1.60</td>\n",
              "      <td>1.59</td>\n",
              "      <td>1.28</td>\n",
              "      <td>0.75</td>\n",
              "    </tr>\n",
              "    <tr>\n",
              "      <th>202</th>\n",
              "      <td>November 2021</td>\n",
              "      <td>0.610</td>\n",
              "      <td>0.70</td>\n",
              "      <td>6.99</td>\n",
              "      <td>7.310</td>\n",
              "      <td>0.35</td>\n",
              "      <td>0.61</td>\n",
              "      <td>0.000</td>\n",
              "      <td>1.420</td>\n",
              "      <td>0.52</td>\n",
              "      <td>...</td>\n",
              "      <td>6.185</td>\n",
              "      <td>30.04</td>\n",
              "      <td>3.80</td>\n",
              "      <td>1.00</td>\n",
              "      <td>0.82</td>\n",
              "      <td>0.54</td>\n",
              "      <td>1.70</td>\n",
              "      <td>1.63</td>\n",
              "      <td>1.37</td>\n",
              "      <td>0.76</td>\n",
              "    </tr>\n",
              "    <tr>\n",
              "      <th>203</th>\n",
              "      <td>December 2021</td>\n",
              "      <td>0.700</td>\n",
              "      <td>0.67</td>\n",
              "      <td>7.01</td>\n",
              "      <td>7.260</td>\n",
              "      <td>0.33</td>\n",
              "      <td>0.65</td>\n",
              "      <td>0.000</td>\n",
              "      <td>1.350</td>\n",
              "      <td>0.49</td>\n",
              "      <td>...</td>\n",
              "      <td>6.230</td>\n",
              "      <td>29.58</td>\n",
              "      <td>4.10</td>\n",
              "      <td>1.03</td>\n",
              "      <td>0.84</td>\n",
              "      <td>0.54</td>\n",
              "      <td>1.64</td>\n",
              "      <td>1.66</td>\n",
              "      <td>1.25</td>\n",
              "      <td>0.71</td>\n",
              "    </tr>\n",
              "  </tbody>\n",
              "</table>\n",
              "<p>204 rows × 29 columns</p>\n",
              "</div>\n",
              "      <button class=\"colab-df-convert\" onclick=\"convertToInteractive('df-79688d48-1b6f-4653-9b3f-c65a88c41875')\"\n",
              "              title=\"Convert this dataframe to an interactive table.\"\n",
              "              style=\"display:none;\">\n",
              "        \n",
              "  <svg xmlns=\"http://www.w3.org/2000/svg\" height=\"24px\"viewBox=\"0 0 24 24\"\n",
              "       width=\"24px\">\n",
              "    <path d=\"M0 0h24v24H0V0z\" fill=\"none\"/>\n",
              "    <path d=\"M18.56 5.44l.94 2.06.94-2.06 2.06-.94-2.06-.94-.94-2.06-.94 2.06-2.06.94zm-11 1L8.5 8.5l.94-2.06 2.06-.94-2.06-.94L8.5 2.5l-.94 2.06-2.06.94zm10 10l.94 2.06.94-2.06 2.06-.94-2.06-.94-.94-2.06-.94 2.06-2.06.94z\"/><path d=\"M17.41 7.96l-1.37-1.37c-.4-.4-.92-.59-1.43-.59-.52 0-1.04.2-1.43.59L10.3 9.45l-7.72 7.72c-.78.78-.78 2.05 0 2.83L4 21.41c.39.39.9.59 1.41.59.51 0 1.02-.2 1.41-.59l7.78-7.78 2.81-2.81c.8-.78.8-2.07 0-2.86zM5.41 20L4 18.59l7.72-7.72 1.47 1.35L5.41 20z\"/>\n",
              "  </svg>\n",
              "      </button>\n",
              "      \n",
              "  <style>\n",
              "    .colab-df-container {\n",
              "      display:flex;\n",
              "      flex-wrap:wrap;\n",
              "      gap: 12px;\n",
              "    }\n",
              "\n",
              "    .colab-df-convert {\n",
              "      background-color: #E8F0FE;\n",
              "      border: none;\n",
              "      border-radius: 50%;\n",
              "      cursor: pointer;\n",
              "      display: none;\n",
              "      fill: #1967D2;\n",
              "      height: 32px;\n",
              "      padding: 0 0 0 0;\n",
              "      width: 32px;\n",
              "    }\n",
              "\n",
              "    .colab-df-convert:hover {\n",
              "      background-color: #E2EBFA;\n",
              "      box-shadow: 0px 1px 2px rgba(60, 64, 67, 0.3), 0px 1px 3px 1px rgba(60, 64, 67, 0.15);\n",
              "      fill: #174EA6;\n",
              "    }\n",
              "\n",
              "    [theme=dark] .colab-df-convert {\n",
              "      background-color: #3B4455;\n",
              "      fill: #D2E3FC;\n",
              "    }\n",
              "\n",
              "    [theme=dark] .colab-df-convert:hover {\n",
              "      background-color: #434B5C;\n",
              "      box-shadow: 0px 1px 3px 1px rgba(0, 0, 0, 0.15);\n",
              "      filter: drop-shadow(0px 1px 2px rgba(0, 0, 0, 0.3));\n",
              "      fill: #FFFFFF;\n",
              "    }\n",
              "  </style>\n",
              "\n",
              "      <script>\n",
              "        const buttonEl =\n",
              "          document.querySelector('#df-79688d48-1b6f-4653-9b3f-c65a88c41875 button.colab-df-convert');\n",
              "        buttonEl.style.display =\n",
              "          google.colab.kernel.accessAllowed ? 'block' : 'none';\n",
              "\n",
              "        async function convertToInteractive(key) {\n",
              "          const element = document.querySelector('#df-79688d48-1b6f-4653-9b3f-c65a88c41875');\n",
              "          const dataTable =\n",
              "            await google.colab.kernel.invokeFunction('convertToInteractive',\n",
              "                                                     [key], {});\n",
              "          if (!dataTable) return;\n",
              "\n",
              "          const docLinkHtml = 'Like what you see? Visit the ' +\n",
              "            '<a target=\"_blank\" href=https://colab.research.google.com/notebooks/data_table.ipynb>data table notebook</a>'\n",
              "            + ' to learn more about interactive tables.';\n",
              "          element.innerHTML = '';\n",
              "          dataTable['output_type'] = 'display_data';\n",
              "          await google.colab.output.renderOutput(dataTable, element);\n",
              "          const docLink = document.createElement('div');\n",
              "          docLink.innerHTML = docLinkHtml;\n",
              "          element.appendChild(docLink);\n",
              "        }\n",
              "      </script>\n",
              "    </div>\n",
              "  </div>\n",
              "  "
            ],
            "text/plain": [
              "               Date   Abap   Ada  C/C++     C#  Cobol  Dart  Delphi/Pascal  \\\n",
              "0      January 2005  0.380  0.38   9.70  5.225   0.55  0.00          2.650   \n",
              "1     February 2005  0.370  0.38   9.87  5.210   0.49  0.00          2.657   \n",
              "2        March 2005  0.337  0.37   9.87  5.380   0.44  0.00          2.650   \n",
              "3        April 2005  0.337  0.36   9.85  5.420   0.41  0.00          2.560   \n",
              "4          May 2005  0.350  0.37   9.71  5.620   0.40  0.00          2.500   \n",
              "..              ...    ...   ...    ...    ...    ...   ...            ...   \n",
              "199     August 2021  0.490  0.54   6.50  6.990   0.31  0.57          0.000   \n",
              "200  September 2021  0.500  0.54   6.68  7.170   0.35  0.58          0.000   \n",
              "201    October 2021  0.530  0.57   6.99  7.380   0.33  0.54          0.000   \n",
              "202   November 2021  0.610  0.70   6.99  7.310   0.35  0.61          0.000   \n",
              "203   December 2021  0.700  0.67   7.01  7.260   0.33  0.65          0.000   \n",
              "\n",
              "        Go  Groovy  ...     PHP  Python     R  Ruby  Rust  Scala  Swift  \\\n",
              "0    0.000    0.11  ...  19.810    2.91  0.38  0.47  0.15   0.03   0.00   \n",
              "1    0.000    0.06  ...  19.630    2.87  0.38  0.44  0.15   0.03   0.00   \n",
              "2    0.000    0.08  ...  19.540    2.81  0.42  0.45  0.13   0.03   0.00   \n",
              "3    0.000    0.08  ...  19.930    2.78  0.40  0.43  0.11   0.02   0.00   \n",
              "4    0.000    0.09  ...  19.860    2.88  0.41  0.47  0.09   0.02   0.00   \n",
              "..     ...     ...  ...     ...     ...   ...   ...   ...    ...    ...   \n",
              "199  1.500    0.47  ...   6.310   30.74  3.76  1.03  0.77   0.53   1.63   \n",
              "200  1.568    0.47  ...   6.370   30.11  3.93  1.01  0.77   0.49   1.64   \n",
              "201  1.540    0.52  ...   6.270   30.14  3.73  0.98  0.74   0.49   1.60   \n",
              "202  1.420    0.52  ...   6.185   30.04  3.80  1.00  0.82   0.54   1.70   \n",
              "203  1.350    0.49  ...   6.230   29.58  4.10  1.03  0.84   0.54   1.64   \n",
              "\n",
              "     TypeScript   VBA  Visual Basic  \n",
              "0          0.00  1.51          7.79  \n",
              "1          0.00  1.45          7.67  \n",
              "2          0.00  1.44          7.68  \n",
              "3          0.00  1.35          7.52  \n",
              "4          0.00  1.47          7.66  \n",
              "..          ...   ...           ...  \n",
              "199        1.71  1.27          0.73  \n",
              "200        1.59  1.27          0.72  \n",
              "201        1.59  1.28          0.75  \n",
              "202        1.63  1.37          0.76  \n",
              "203        1.66  1.25          0.71  \n",
              "\n",
              "[204 rows x 29 columns]"
            ]
          },
          "execution_count": 2,
          "metadata": {},
          "output_type": "execute_result"
        }
      ],
      "source": [
        "# carrega a tabela para o dataframe df\n",
        "df = pd.read_csv('https://raw.githubusercontent.com/TrabalhoAPC2021-02/Trabalho_Final/main/arquivos/04e05_Most_Popular_Programming_Languages_from_2005_to_2021.csv', ';')\n",
        "df"
      ]
    },
    {
      "cell_type": "markdown",
      "metadata": {
        "id": "2BiUN7txQNsk"
      },
      "source": [
        "A próxima célula converte o dataframe em uma lista chamada lista_dados, ou seja, coloca os dados em uma matriz para facilitar o uso de indices no tratamento dos dados"
      ]
    },
    {
      "cell_type": "code",
      "execution_count": 3,
      "metadata": {
        "colab": {
          "base_uri": "https://localhost:8080/"
        },
        "id": "A7Vo7gN_hk_S",
        "outputId": "a9919c68-a5e1-4ed1-a81f-bf22360d6a19"
      },
      "outputs": [
        {
          "name": "stdout",
          "output_type": "stream",
          "text": [
            "[['January 2005' 0.38 0.38 ... 0.0 1.51 7.79]\n",
            " ['February 2005' 0.37 0.38 ... 0.0 1.45 7.67]\n",
            " ['March 2005' 0.337 0.37 ... 0.0 1.44 7.68]\n",
            " ...\n",
            " ['October 2021' 0.53 0.57 ... 1.59 1.28 0.75]\n",
            " ['November 2021' 0.61 0.7 ... 1.63 1.37 0.76]\n",
            " ['December 2021' 0.7 0.67 ... 1.66 1.25 0.71]]\n",
            "204\n"
          ]
        }
      ],
      "source": [
        "# converte os dados em uma lista chamada lista_dados\n",
        "lista_dados = df.values\n",
        "print(lista_dados)\n",
        "print(len(lista_dados))"
      ]
    },
    {
      "cell_type": "markdown",
      "metadata": {
        "id": "iWEvqplJQVp7"
      },
      "source": [
        "Nesse grafico vao aparecer as linguagens e a totalizacao de cada uma delas do ano escolhido\n",
        "\n",
        "assim, primeiro se coloca os nomes das colunas na lista nomes_colunas (29 itens)\n",
        "\n",
        "depois em nomes_linguagens, despreza-se o primeiro nome, que nao e uma linguagem e so a data (28 itens)"
      ]
    },
    {
      "cell_type": "code",
      "execution_count": 4,
      "metadata": {
        "colab": {
          "base_uri": "https://localhost:8080/"
        },
        "id": "NSl8cN0ShZWA",
        "outputId": "76f2a1ed-7614-4885-ced7-946fb650721c"
      },
      "outputs": [
        {
          "name": "stdout",
          "output_type": "stream",
          "text": [
            "['Date', 'Abap', 'Ada', 'C/C++', 'C#', 'Cobol', 'Dart', 'Delphi/Pascal', 'Go', 'Groovy', 'Haskell', 'Java', 'JavaScript', 'Julia', 'Kotlin', 'Lua', 'Matlab', 'Objective-C', 'Perl', 'PHP', 'Python', 'R', 'Ruby', 'Rust', 'Scala', 'Swift', 'TypeScript', 'VBA', 'Visual Basic']\n",
            "29\n",
            "['Abap', 'Ada', 'C/C++', 'C#', 'Cobol', 'Dart', 'Delphi/Pascal', 'Go', 'Groovy', 'Haskell', 'Java', 'JavaScript', 'Julia', 'Kotlin', 'Lua', 'Matlab', 'Objective-C', 'Perl', 'PHP', 'Python', 'R', 'Ruby', 'Rust', 'Scala', 'Swift', 'TypeScript', 'VBA', 'Visual Basic']\n",
            "28\n"
          ]
        }
      ],
      "source": [
        "# carrega os nomes das colunas do dataframe para uma lista chamada nomes_colunas\n",
        "nomes_colunas = list(df.columns)\n",
        "print(nomes_colunas)\n",
        "print(len(nomes_colunas))\n",
        "\n",
        "# retira o nome da primeira coluna que nao e linguagem e so a data\n",
        "nomes_linguagens = nomes_colunas[1:len(nomes_colunas)] # \n",
        "print(nomes_linguagens)\n",
        "print(len(nomes_linguagens))"
      ]
    },
    {
      "cell_type": "markdown",
      "metadata": {
        "id": "hKk3CiDMQ4io"
      },
      "source": [
        "A celula abaixo calcula o somatorio de cada coluna de linguagem do ano escolhido\n",
        "\n",
        "no final tem-se 28 somatorios"
      ]
    },
    {
      "cell_type": "code",
      "execution_count": 5,
      "metadata": {
        "colab": {
          "base_uri": "https://localhost:8080/"
        },
        "id": "QqcdwfaDXUlH",
        "outputId": "b934d251-880d-4566-c2f5-e7ba65b3c766"
      },
      "outputs": [
        {
          "name": "stdout",
          "output_type": "stream",
          "text": [
            "28\n",
            "[6.33, 7.410000000000001, 80.27, 84.41000000000001, 4.0040000000000004, 6.780000000000001, 0.928, 16.966, 5.1899999999999995, 3.076, 212.89, 107.46000000000001, 4.204000000000001, 20.939999999999998, 5.989999999999999, 18.7, 29.54, 4.890000000000001, 75.11500000000001, 363.43, 46.007, 12.959999999999999, 10.239999999999998, 6.590000000000001, 21.237000000000002, 20.36, 15.11, 8.31]\n"
          ]
        }
      ],
      "source": [
        "# faz o somatorio dos valores de cada linguagem apenas do ano em estudo\n",
        "somatorio: [float] = [0 for aa in range(28)] # cria uma lista para receber o somatorio dos valores de cada coluna (linguagem)\n",
        "ano_em_estudo = '2021' # determina um ano para filtrar os dados e plotar o grafico\n",
        "\n",
        "for x in lista_dados: # percorre todas as linhas da lista_dados\n",
        "  ano = x[0][len(x[0])-4:len(x[0])] # salva em ano[i] so os 4 ultimos caracteres da string 'mes ano'\n",
        "  if ano == ano_em_estudo: \n",
        "    for i in range(0,28): # calcula o somatorio dos valores de cada coluna ou seja de cada linguagem\n",
        "      somatorio[i] = somatorio[i] + x[i+1]\n",
        "      #print(x[i])\n",
        "    #print('nova linha')\n",
        "\n",
        "print(len(somatorio))\n",
        "print(somatorio)  "
      ]
    },
    {
      "cell_type": "markdown",
      "metadata": {
        "id": "Y8oZP-EDUgwb"
      },
      "source": [
        "Para cada somatorio agora se calcula a media\n",
        "\n",
        "no final tem-se 28 medias, uma para cada linguagem"
      ]
    },
    {
      "cell_type": "code",
      "execution_count": 6,
      "metadata": {
        "colab": {
          "base_uri": "https://localhost:8080/"
        },
        "id": "cY7soaNZcdhZ",
        "outputId": "19c2fd17-8077-4b29-846d-a73dee6872fe"
      },
      "outputs": [
        {
          "name": "stdout",
          "output_type": "stream",
          "text": [
            "28\n",
            "['Abap', 'Ada', 'C/C++', 'C#', 'Cobol', 'Dart', 'Delphi/Pascal', 'Go', 'Groovy', 'Haskell', 'Java', 'JavaScript', 'Julia', 'Kotlin', 'Lua', 'Matlab', 'Objective-C', 'Perl', 'PHP', 'Python', 'R', 'Ruby', 'Rust', 'Scala', 'Swift', 'TypeScript', 'VBA', 'Visual Basic']\n",
            "[0.5275, 0.6175, 6.689166666666666, 7.034166666666668, 0.3336666666666667, 0.5650000000000001, 0.07733333333333334, 1.4138333333333335, 0.43249999999999994, 0.25633333333333336, 17.74083333333333, 8.955, 0.3503333333333334, 1.7449999999999999, 0.4991666666666666, 1.5583333333333333, 2.4616666666666664, 0.40750000000000003, 6.259583333333334, 30.285833333333333, 3.8339166666666666, 1.0799999999999998, 0.8533333333333332, 0.5491666666666667, 1.7697500000000002, 1.6966666666666665, 1.2591666666666665, 0.6925]\n"
          ]
        }
      ],
      "source": [
        "# calcula a media de uso anual para cada linguagem\n",
        "media: [float] = [0 for aa in range(28)] # cria uma lista para receber a media dos valores de cada coluna (linguagem)\n",
        "\n",
        "for i in range(0,28): # calcula a media dos valores de cada coluna ou seja de cada linguagem\n",
        "      media[i] = somatorio[i] / 12\n",
        "      #print(media[i])\n",
        "\n",
        "print(len(media))\n",
        "print(nomes_linguagens)\n",
        "print(media)"
      ]
    },
    {
      "cell_type": "markdown",
      "metadata": {
        "id": "2-dUq0-vUqkg"
      },
      "source": [
        "O metodo de ordenacao abaixo e chamado metodo bolha, que consiste em percorrer a lista item a item (primeiro for) e comparar cada valor com todos os valores \"a frente\" deste (segundo for)\n",
        "\n",
        "as variaveis auxiliares servem para armazenar o valor da media em questao temporariamente, enquanto se troca de lugar essa media com a outra que esta fora de ordem.\n",
        "\n",
        "em seguida, volta o valor que estava armazenado na variavel aux para o lugar certo\n",
        "\n",
        "o mesmo raciocinio se aplica a varaiavel que tem o nome da linguagem, porque essa precisa acompanhar o valor da sua media. Se a media muda de lugar, o nome da linguagem muda tambem, para acompanhar sua respectiva media e nao bagunçar tudo"
      ]
    },
    {
      "cell_type": "code",
      "execution_count": 7,
      "metadata": {
        "colab": {
          "base_uri": "https://localhost:8080/"
        },
        "id": "cZNir4kigsTE",
        "outputId": "7ea7dd50-20dd-4d56-ff94-25ad4cb5dfb7"
      },
      "outputs": [
        {
          "name": "stdout",
          "output_type": "stream",
          "text": [
            "28 28\n",
            "Python 30.285833333333333\n",
            "Visual Basic 0.6925\n"
          ]
        }
      ],
      "source": [
        "# ordena as linguagens pela media em ordem decrescente \n",
        "aux_media = 0 # inicializa a variavel auxiliar que vai receber o valor da media temporariamente enquanto troca de lugar as medias que estao fora de ordem\n",
        "aux_nomes_linguagens = '' # a mesma coisa pra linguagem, para ela acompanhar sua respectiva media\n",
        "\n",
        "for i in range(0,27): # percorre a lista media uma vez\n",
        "    for j in range(i, 27): # percorre a lista media novamente dali pra frente comparando os valores \n",
        "        if media[i]<media[j]: # se estiver fora de ordem usa a variavel aux para trocar de lugar os valores e colocar na ordem\n",
        "            aux_media = media[i] # ordena a media\n",
        "            media[i] = media[j]\n",
        "            media[j] = aux_media\n",
        "            aux_nomes_linguagens = nomes_linguagens[i] # faz o nome da linguagem trocar de lugar tambem para acompanhar sua respectiva media\n",
        "            nomes_linguagens[i] = nomes_linguagens[j]\n",
        "            nomes_linguagens[j] = aux_nomes_linguagens\n",
        "\n",
        "print(len(nomes_linguagens), len(media))\n",
        "print(nomes_linguagens[0], media[0])\n",
        "print(nomes_linguagens[27], media[27])"
      ]
    },
    {
      "cell_type": "markdown",
      "metadata": {
        "id": "tqcXBfjbXBOk"
      },
      "source": [
        "A celula abaixo pega as primeiras 15 linguagens da ordenacao feita anteriormente, ou seja, as 15 linguagens mais usadas"
      ]
    },
    {
      "cell_type": "code",
      "execution_count": 8,
      "metadata": {
        "colab": {
          "base_uri": "https://localhost:8080/",
          "height": 542
        },
        "id": "YEFhlEWEcxKk",
        "outputId": "18e0d405-5261-45f5-f248-5c1bbfb56013"
      },
      "outputs": [
        {
          "data": {
            "text/html": [
              "<html>\n",
              "<head><meta charset=\"utf-8\" /></head>\n",
              "<body>\n",
              "    <div>            <script src=\"https://cdnjs.cloudflare.com/ajax/libs/mathjax/2.7.5/MathJax.js?config=TeX-AMS-MML_SVG\"></script><script type=\"text/javascript\">if (window.MathJax) {MathJax.Hub.Config({SVG: {font: \"STIX-Web\"}});}</script>                <script type=\"text/javascript\">window.PlotlyConfig = {MathJaxConfig: 'local'};</script>\n",
              "        <script src=\"https://cdn.plot.ly/plotly-2.8.3.min.js\"></script>                <div id=\"de1e7646-0bf8-4f62-9da4-401d7e790739\" class=\"plotly-graph-div\" style=\"height:525px; width:100%;\"></div>            <script type=\"text/javascript\">                                    window.PLOTLYENV=window.PLOTLYENV || {};                                    if (document.getElementById(\"de1e7646-0bf8-4f62-9da4-401d7e790739\")) {                    Plotly.newPlot(                        \"de1e7646-0bf8-4f62-9da4-401d7e790739\",                        [{\"domain\":{\"x\":[0.0,1.0],\"y\":[0.0,1.0]},\"hovertemplate\":\"label=%{label}<br>value=%{value}<extra></extra>\",\"labels\":[\"Python\",\"Java\",\"JavaScript\",\"C#\",\"C/C++\",\"PHP\",\"R\",\"Objective-C\",\"Swift\",\"Kotlin\",\"TypeScript\",\"Matlab\",\"Go\",\"VBA\",\"Ruby\"],\"legendgroup\":\"\",\"name\":\"\",\"showlegend\":true,\"values\":[30.285833333333333,17.74083333333333,8.955,7.034166666666668,6.689166666666666,6.259583333333334,3.8339166666666666,2.4616666666666664,1.7697500000000002,1.7449999999999999,1.6966666666666665,1.5583333333333333,1.4138333333333335,1.2591666666666665,1.0799999999999998],\"type\":\"pie\"}],                        {\"template\":{\"data\":{\"bar\":[{\"error_x\":{\"color\":\"#2a3f5f\"},\"error_y\":{\"color\":\"#2a3f5f\"},\"marker\":{\"line\":{\"color\":\"#E5ECF6\",\"width\":0.5},\"pattern\":{\"fillmode\":\"overlay\",\"size\":10,\"solidity\":0.2}},\"type\":\"bar\"}],\"barpolar\":[{\"marker\":{\"line\":{\"color\":\"#E5ECF6\",\"width\":0.5},\"pattern\":{\"fillmode\":\"overlay\",\"size\":10,\"solidity\":0.2}},\"type\":\"barpolar\"}],\"carpet\":[{\"aaxis\":{\"endlinecolor\":\"#2a3f5f\",\"gridcolor\":\"white\",\"linecolor\":\"white\",\"minorgridcolor\":\"white\",\"startlinecolor\":\"#2a3f5f\"},\"baxis\":{\"endlinecolor\":\"#2a3f5f\",\"gridcolor\":\"white\",\"linecolor\":\"white\",\"minorgridcolor\":\"white\",\"startlinecolor\":\"#2a3f5f\"},\"type\":\"carpet\"}],\"choropleth\":[{\"colorbar\":{\"outlinewidth\":0,\"ticks\":\"\"},\"type\":\"choropleth\"}],\"contour\":[{\"colorbar\":{\"outlinewidth\":0,\"ticks\":\"\"},\"colorscale\":[[0.0,\"#0d0887\"],[0.1111111111111111,\"#46039f\"],[0.2222222222222222,\"#7201a8\"],[0.3333333333333333,\"#9c179e\"],[0.4444444444444444,\"#bd3786\"],[0.5555555555555556,\"#d8576b\"],[0.6666666666666666,\"#ed7953\"],[0.7777777777777778,\"#fb9f3a\"],[0.8888888888888888,\"#fdca26\"],[1.0,\"#f0f921\"]],\"type\":\"contour\"}],\"contourcarpet\":[{\"colorbar\":{\"outlinewidth\":0,\"ticks\":\"\"},\"type\":\"contourcarpet\"}],\"heatmap\":[{\"colorbar\":{\"outlinewidth\":0,\"ticks\":\"\"},\"colorscale\":[[0.0,\"#0d0887\"],[0.1111111111111111,\"#46039f\"],[0.2222222222222222,\"#7201a8\"],[0.3333333333333333,\"#9c179e\"],[0.4444444444444444,\"#bd3786\"],[0.5555555555555556,\"#d8576b\"],[0.6666666666666666,\"#ed7953\"],[0.7777777777777778,\"#fb9f3a\"],[0.8888888888888888,\"#fdca26\"],[1.0,\"#f0f921\"]],\"type\":\"heatmap\"}],\"heatmapgl\":[{\"colorbar\":{\"outlinewidth\":0,\"ticks\":\"\"},\"colorscale\":[[0.0,\"#0d0887\"],[0.1111111111111111,\"#46039f\"],[0.2222222222222222,\"#7201a8\"],[0.3333333333333333,\"#9c179e\"],[0.4444444444444444,\"#bd3786\"],[0.5555555555555556,\"#d8576b\"],[0.6666666666666666,\"#ed7953\"],[0.7777777777777778,\"#fb9f3a\"],[0.8888888888888888,\"#fdca26\"],[1.0,\"#f0f921\"]],\"type\":\"heatmapgl\"}],\"histogram\":[{\"marker\":{\"pattern\":{\"fillmode\":\"overlay\",\"size\":10,\"solidity\":0.2}},\"type\":\"histogram\"}],\"histogram2d\":[{\"colorbar\":{\"outlinewidth\":0,\"ticks\":\"\"},\"colorscale\":[[0.0,\"#0d0887\"],[0.1111111111111111,\"#46039f\"],[0.2222222222222222,\"#7201a8\"],[0.3333333333333333,\"#9c179e\"],[0.4444444444444444,\"#bd3786\"],[0.5555555555555556,\"#d8576b\"],[0.6666666666666666,\"#ed7953\"],[0.7777777777777778,\"#fb9f3a\"],[0.8888888888888888,\"#fdca26\"],[1.0,\"#f0f921\"]],\"type\":\"histogram2d\"}],\"histogram2dcontour\":[{\"colorbar\":{\"outlinewidth\":0,\"ticks\":\"\"},\"colorscale\":[[0.0,\"#0d0887\"],[0.1111111111111111,\"#46039f\"],[0.2222222222222222,\"#7201a8\"],[0.3333333333333333,\"#9c179e\"],[0.4444444444444444,\"#bd3786\"],[0.5555555555555556,\"#d8576b\"],[0.6666666666666666,\"#ed7953\"],[0.7777777777777778,\"#fb9f3a\"],[0.8888888888888888,\"#fdca26\"],[1.0,\"#f0f921\"]],\"type\":\"histogram2dcontour\"}],\"mesh3d\":[{\"colorbar\":{\"outlinewidth\":0,\"ticks\":\"\"},\"type\":\"mesh3d\"}],\"parcoords\":[{\"line\":{\"colorbar\":{\"outlinewidth\":0,\"ticks\":\"\"}},\"type\":\"parcoords\"}],\"pie\":[{\"automargin\":true,\"type\":\"pie\"}],\"scatter\":[{\"marker\":{\"colorbar\":{\"outlinewidth\":0,\"ticks\":\"\"}},\"type\":\"scatter\"}],\"scatter3d\":[{\"line\":{\"colorbar\":{\"outlinewidth\":0,\"ticks\":\"\"}},\"marker\":{\"colorbar\":{\"outlinewidth\":0,\"ticks\":\"\"}},\"type\":\"scatter3d\"}],\"scattercarpet\":[{\"marker\":{\"colorbar\":{\"outlinewidth\":0,\"ticks\":\"\"}},\"type\":\"scattercarpet\"}],\"scattergeo\":[{\"marker\":{\"colorbar\":{\"outlinewidth\":0,\"ticks\":\"\"}},\"type\":\"scattergeo\"}],\"scattergl\":[{\"marker\":{\"colorbar\":{\"outlinewidth\":0,\"ticks\":\"\"}},\"type\":\"scattergl\"}],\"scattermapbox\":[{\"marker\":{\"colorbar\":{\"outlinewidth\":0,\"ticks\":\"\"}},\"type\":\"scattermapbox\"}],\"scatterpolar\":[{\"marker\":{\"colorbar\":{\"outlinewidth\":0,\"ticks\":\"\"}},\"type\":\"scatterpolar\"}],\"scatterpolargl\":[{\"marker\":{\"colorbar\":{\"outlinewidth\":0,\"ticks\":\"\"}},\"type\":\"scatterpolargl\"}],\"scatterternary\":[{\"marker\":{\"colorbar\":{\"outlinewidth\":0,\"ticks\":\"\"}},\"type\":\"scatterternary\"}],\"surface\":[{\"colorbar\":{\"outlinewidth\":0,\"ticks\":\"\"},\"colorscale\":[[0.0,\"#0d0887\"],[0.1111111111111111,\"#46039f\"],[0.2222222222222222,\"#7201a8\"],[0.3333333333333333,\"#9c179e\"],[0.4444444444444444,\"#bd3786\"],[0.5555555555555556,\"#d8576b\"],[0.6666666666666666,\"#ed7953\"],[0.7777777777777778,\"#fb9f3a\"],[0.8888888888888888,\"#fdca26\"],[1.0,\"#f0f921\"]],\"type\":\"surface\"}],\"table\":[{\"cells\":{\"fill\":{\"color\":\"#EBF0F8\"},\"line\":{\"color\":\"white\"}},\"header\":{\"fill\":{\"color\":\"#C8D4E3\"},\"line\":{\"color\":\"white\"}},\"type\":\"table\"}]},\"layout\":{\"annotationdefaults\":{\"arrowcolor\":\"#2a3f5f\",\"arrowhead\":0,\"arrowwidth\":1},\"autotypenumbers\":\"strict\",\"coloraxis\":{\"colorbar\":{\"outlinewidth\":0,\"ticks\":\"\"}},\"colorscale\":{\"diverging\":[[0,\"#8e0152\"],[0.1,\"#c51b7d\"],[0.2,\"#de77ae\"],[0.3,\"#f1b6da\"],[0.4,\"#fde0ef\"],[0.5,\"#f7f7f7\"],[0.6,\"#e6f5d0\"],[0.7,\"#b8e186\"],[0.8,\"#7fbc41\"],[0.9,\"#4d9221\"],[1,\"#276419\"]],\"sequential\":[[0.0,\"#0d0887\"],[0.1111111111111111,\"#46039f\"],[0.2222222222222222,\"#7201a8\"],[0.3333333333333333,\"#9c179e\"],[0.4444444444444444,\"#bd3786\"],[0.5555555555555556,\"#d8576b\"],[0.6666666666666666,\"#ed7953\"],[0.7777777777777778,\"#fb9f3a\"],[0.8888888888888888,\"#fdca26\"],[1.0,\"#f0f921\"]],\"sequentialminus\":[[0.0,\"#0d0887\"],[0.1111111111111111,\"#46039f\"],[0.2222222222222222,\"#7201a8\"],[0.3333333333333333,\"#9c179e\"],[0.4444444444444444,\"#bd3786\"],[0.5555555555555556,\"#d8576b\"],[0.6666666666666666,\"#ed7953\"],[0.7777777777777778,\"#fb9f3a\"],[0.8888888888888888,\"#fdca26\"],[1.0,\"#f0f921\"]]},\"colorway\":[\"#636efa\",\"#EF553B\",\"#00cc96\",\"#ab63fa\",\"#FFA15A\",\"#19d3f3\",\"#FF6692\",\"#B6E880\",\"#FF97FF\",\"#FECB52\"],\"font\":{\"color\":\"#2a3f5f\"},\"geo\":{\"bgcolor\":\"white\",\"lakecolor\":\"white\",\"landcolor\":\"#E5ECF6\",\"showlakes\":true,\"showland\":true,\"subunitcolor\":\"white\"},\"hoverlabel\":{\"align\":\"left\"},\"hovermode\":\"closest\",\"mapbox\":{\"style\":\"light\"},\"paper_bgcolor\":\"white\",\"plot_bgcolor\":\"#E5ECF6\",\"polar\":{\"angularaxis\":{\"gridcolor\":\"white\",\"linecolor\":\"white\",\"ticks\":\"\"},\"bgcolor\":\"#E5ECF6\",\"radialaxis\":{\"gridcolor\":\"white\",\"linecolor\":\"white\",\"ticks\":\"\"}},\"scene\":{\"xaxis\":{\"backgroundcolor\":\"#E5ECF6\",\"gridcolor\":\"white\",\"gridwidth\":2,\"linecolor\":\"white\",\"showbackground\":true,\"ticks\":\"\",\"zerolinecolor\":\"white\"},\"yaxis\":{\"backgroundcolor\":\"#E5ECF6\",\"gridcolor\":\"white\",\"gridwidth\":2,\"linecolor\":\"white\",\"showbackground\":true,\"ticks\":\"\",\"zerolinecolor\":\"white\"},\"zaxis\":{\"backgroundcolor\":\"#E5ECF6\",\"gridcolor\":\"white\",\"gridwidth\":2,\"linecolor\":\"white\",\"showbackground\":true,\"ticks\":\"\",\"zerolinecolor\":\"white\"}},\"shapedefaults\":{\"line\":{\"color\":\"#2a3f5f\"}},\"ternary\":{\"aaxis\":{\"gridcolor\":\"white\",\"linecolor\":\"white\",\"ticks\":\"\"},\"baxis\":{\"gridcolor\":\"white\",\"linecolor\":\"white\",\"ticks\":\"\"},\"bgcolor\":\"#E5ECF6\",\"caxis\":{\"gridcolor\":\"white\",\"linecolor\":\"white\",\"ticks\":\"\"}},\"title\":{\"x\":0.05},\"xaxis\":{\"automargin\":true,\"gridcolor\":\"white\",\"linecolor\":\"white\",\"ticks\":\"\",\"title\":{\"standoff\":15},\"zerolinecolor\":\"white\",\"zerolinewidth\":2},\"yaxis\":{\"automargin\":true,\"gridcolor\":\"white\",\"linecolor\":\"white\",\"ticks\":\"\",\"title\":{\"standoff\":15},\"zerolinecolor\":\"white\",\"zerolinewidth\":2}}},\"legend\":{\"tracegroupgap\":0},\"title\":{\"text\":\"As 15 linguagens de programa\\u00e7\\u00e3o mais usadas no ano de 2021\"}},                        {\"responsive\": true}                    ).then(function(){\n",
              "                            \n",
              "var gd = document.getElementById('de1e7646-0bf8-4f62-9da4-401d7e790739');\n",
              "var x = new MutationObserver(function (mutations, observer) {{\n",
              "        var display = window.getComputedStyle(gd).display;\n",
              "        if (!display || display === 'none') {{\n",
              "            console.log([gd, 'removed!']);\n",
              "            Plotly.purge(gd);\n",
              "            observer.disconnect();\n",
              "        }}\n",
              "}});\n",
              "\n",
              "// Listen for the removal of the full notebook cells\n",
              "var notebookContainer = gd.closest('#notebook-container');\n",
              "if (notebookContainer) {{\n",
              "    x.observe(notebookContainer, {childList: true});\n",
              "}}\n",
              "\n",
              "// Listen for the clearing of the current output cell\n",
              "var outputEl = gd.closest('.output');\n",
              "if (outputEl) {{\n",
              "    x.observe(outputEl, {childList: true});\n",
              "}}\n",
              "\n",
              "                        })                };                            </script>        </div>\n",
              "</body>\n",
              "</html>"
            ]
          },
          "metadata": {},
          "output_type": "display_data"
        }
      ],
      "source": [
        "# plota no gráfico apenas as 15 primeiras\n",
        "dados_x=nomes_linguagens[0:15] # pega as linguagens de 0 a 14 - porque a 15 nao entra no fatiamento da lista\n",
        "dados_y=media[0:15] # pega as medias de 0 a 14 - porque a 15 nao entra no fatiamento da lista\n",
        "\n",
        "fig = px.pie(names = dados_x, values=dados_y, title=f'As 15 linguagens de programação mais usadas no ano de {ano_em_estudo}') # usa o valor da variavel\n",
        "fig.show() # mostra o grafico"
      ]
    }
  ],
  "metadata": {
    "colab": {
      "collapsed_sections": [],
      "include_colab_link": true,
      "name": "Cópia de Grafico pizza 15 mais usadas.ipynb",
      "provenance": []
    },
    "kernelspec": {
      "display_name": "Python 3",
      "name": "python3"
    },
    "language_info": {
      "name": "python"
    }
  },
  "nbformat": 4,
  "nbformat_minor": 0
}
