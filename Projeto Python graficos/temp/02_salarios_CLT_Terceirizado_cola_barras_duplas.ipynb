{
  "cells": [
    {
      "cell_type": "markdown",
      "metadata": {
        "id": "view-in-github",
        "colab_type": "text"
      },
      "source": [
        "<a href=\"https://colab.research.google.com/github/TrabalhoAPC2021-02/Trabalho_Final/blob/main/colas/02_salarios_CLT_Terceirizado_cola_barras_duplas.ipynb\" target=\"_parent\"><img src=\"https://colab.research.google.com/assets/colab-badge.svg\" alt=\"Open In Colab\"/></a>"
      ]
    },
    {
      "cell_type": "markdown",
      "metadata": {
        "id": "aoUqChueJikl"
      },
      "source": [
        "# Importanto as bibliotecas\n",
        "Pandas - Biblioteca para leitura, tratamento e manipulação de dados: https://pandas.pydata.org/docs/\n",
        "\n",
        "Plotly - Biblioteca para a criação e edição de gráficos: https://plotly.com/python/\n"
      ]
    },
    {
      "cell_type": "code",
      "execution_count": null,
      "metadata": {
        "id": "bbVzIr3RI2PS"
      },
      "outputs": [],
      "source": [
        "import pandas as pd # importando a biblioteca pandas para leitura de dados\n",
        "import plotly.graph_objects as go # biblioteca que usaremos para criar os gráficos"
      ]
    },
    {
      "cell_type": "markdown",
      "metadata": {
        "id": "mBSro9WKJikw"
      },
      "source": [
        "# Explicando a tabela\n",
        "Essa tabela mostra os salários de CLT: que são contratados com carteira assinada.\n",
        "E salários de terceirizados de acordo com o google terceirizado é : \"O contrato de trabalho terceirizado nada mais é que a execução das atividades de uma empresa, realizada por outra empresa.\"\n",
        "\n",
        "Mostram os cargos e as especialidades\n",
        "\n",
        "Os valores nas Tabelas estão em reais"
      ]
    },
    {
      "cell_type": "code",
      "execution_count": null,
      "metadata": {
        "colab": {
          "base_uri": "https://localhost:8080/",
          "height": 424
        },
        "id": "rl_r-YykI2PY",
        "outputId": "fcbcae96-db21-4868-b19f-42339bae6ce9"
      },
      "outputs": [
        {
          "data": {
            "text/html": [
              "<div>\n",
              "<style scoped>\n",
              "    .dataframe tbody tr th:only-of-type {\n",
              "        vertical-align: middle;\n",
              "    }\n",
              "\n",
              "    .dataframe tbody tr th {\n",
              "        vertical-align: top;\n",
              "    }\n",
              "\n",
              "    .dataframe thead th {\n",
              "        text-align: right;\n",
              "    }\n",
              "</style>\n",
              "<table border=\"1\" class=\"dataframe\">\n",
              "  <thead>\n",
              "    <tr style=\"text-align: right;\">\n",
              "      <th></th>\n",
              "      <th>Cargo</th>\n",
              "      <th>Especialidade</th>\n",
              "      <th>CLT</th>\n",
              "      <th>Terceiro</th>\n",
              "    </tr>\n",
              "  </thead>\n",
              "  <tbody>\n",
              "    <tr>\n",
              "      <th>0</th>\n",
              "      <td>AD Adm. de Dados</td>\n",
              "      <td></td>\n",
              "      <td>7415</td>\n",
              "      <td>9743.0</td>\n",
              "    </tr>\n",
              "    <tr>\n",
              "      <th>1</th>\n",
              "      <td>Adm. Cloud</td>\n",
              "      <td></td>\n",
              "      <td>5129</td>\n",
              "      <td>5901.0</td>\n",
              "    </tr>\n",
              "    <tr>\n",
              "      <th>2</th>\n",
              "      <td>Adm. de rede</td>\n",
              "      <td></td>\n",
              "      <td>4859</td>\n",
              "      <td>6223.0</td>\n",
              "    </tr>\n",
              "    <tr>\n",
              "      <th>3</th>\n",
              "      <td>Adm. De Sistemas / Aplicações</td>\n",
              "      <td></td>\n",
              "      <td>6084</td>\n",
              "      <td>7281.0</td>\n",
              "    </tr>\n",
              "    <tr>\n",
              "      <th>4</th>\n",
              "      <td>Agile Coach</td>\n",
              "      <td></td>\n",
              "      <td>11715</td>\n",
              "      <td>13221.0</td>\n",
              "    </tr>\n",
              "    <tr>\n",
              "      <th>...</th>\n",
              "      <td>...</td>\n",
              "      <td>...</td>\n",
              "      <td>...</td>\n",
              "      <td>...</td>\n",
              "    </tr>\n",
              "    <tr>\n",
              "      <th>79</th>\n",
              "      <td>Programador</td>\n",
              "      <td>Visual Studio</td>\n",
              "      <td>5149</td>\n",
              "      <td>6636.0</td>\n",
              "    </tr>\n",
              "    <tr>\n",
              "      <th>80</th>\n",
              "      <td>Recrutador(a) RH para TI</td>\n",
              "      <td></td>\n",
              "      <td>3623</td>\n",
              "      <td>5016.0</td>\n",
              "    </tr>\n",
              "    <tr>\n",
              "      <th>81</th>\n",
              "      <td>Técnico de Hardware</td>\n",
              "      <td></td>\n",
              "      <td>2053</td>\n",
              "      <td>2399.0</td>\n",
              "    </tr>\n",
              "    <tr>\n",
              "      <th>82</th>\n",
              "      <td>Tecnico de Suporte</td>\n",
              "      <td></td>\n",
              "      <td>2144</td>\n",
              "      <td>2944.0</td>\n",
              "    </tr>\n",
              "    <tr>\n",
              "      <th>83</th>\n",
              "      <td>Web Designer</td>\n",
              "      <td></td>\n",
              "      <td>3211</td>\n",
              "      <td>4037.0</td>\n",
              "    </tr>\n",
              "  </tbody>\n",
              "</table>\n",
              "<p>84 rows × 4 columns</p>\n",
              "</div>"
            ],
            "text/plain": [
              "                            Cargo  Especialidade    CLT  Terceiro\n",
              "0                AD Adm. de Dados                  7415    9743.0\n",
              "1                      Adm. Cloud                  5129    5901.0\n",
              "2                    Adm. de rede                  4859    6223.0\n",
              "3   Adm. De Sistemas / Aplicações                  6084    7281.0\n",
              "4                     Agile Coach                 11715   13221.0\n",
              "..                            ...            ...    ...       ...\n",
              "79                    Programador  Visual Studio   5149    6636.0\n",
              "80       Recrutador(a) RH para TI                  3623    5016.0\n",
              "81            Técnico de Hardware                  2053    2399.0\n",
              "82             Tecnico de Suporte                  2144    2944.0\n",
              "83                   Web Designer                  3211    4037.0\n",
              "\n",
              "[84 rows x 4 columns]"
            ]
          },
          "execution_count": 2,
          "metadata": {},
          "output_type": "execute_result"
        }
      ],
      "source": [
        "# definindo um dataframe a partir da url do arquivo que puxamos do github\n",
        "url = 'https://raw.githubusercontent.com/TrabalhoAPC2021-02/Trabalho_Final/main/arquivos/02.1_salarios_CLT_Terceirizado.xlsx'\n",
        "\n",
        "# atribuindo uma variável 'df' para especificar nosso data frame\n",
        "df = pd.read_excel(url) # usamos o comando pd.read_excel para ler o excel que atribuimos a variável \"url\"\n",
        "\n",
        "df # mostrar a tabela"
      ]
    },
    {
      "cell_type": "code",
      "execution_count": null,
      "metadata": {
        "colab": {
          "base_uri": "https://localhost:8080/"
        },
        "id": "1RQgn0czI2Pb",
        "outputId": "ed2a29a2-d976-47f4-b093-5e6eca5c8bc4"
      },
      "outputs": [
        {
          "data": {
            "text/plain": [
              "Analista Programador             10\n",
              "Programador                      10\n",
              "Analista de Suporte               6\n",
              "Analista de sistemas              5\n",
              "Consultor especialista            2\n",
              "Operador / Scheduller             2\n",
              "Analista de produção              2\n",
              "AD Adm. de Dados                  1\n",
              "Estagiário                        1\n",
              "Consultor ERP                     1\n",
              "Coordenador de projetos           1\n",
              "Coordenador de Suporte            1\n",
              "Coordenador de testes             1\n",
              "DBA Adm. Base de Dados            1\n",
              "Engenheiro de Sistemas            1\n",
              "Engenheiro de Telecom             1\n",
              "Gerente de Contas                 1\n",
              "Assistente de Informática         1\n",
              "Gerente de operação               1\n",
              "Gerente de Projetos               1\n",
              "Gerente de Sistemas               1\n",
              "Gerente de Suporte                1\n",
              "Instrutor                         1\n",
              "Lider de Projetos                 1\n",
              "Lider Técnico                     1\n",
              "Recrutador(a) RH para TI          1\n",
              "Técnico de Hardware               1\n",
              "Tecnico de Suporte                1\n",
              "Auditor de Sistemas               1\n",
              "Analista Segurança Sistemas       1\n",
              "Arquiteto de Sistemas             1\n",
              "Adm. Cloud                        1\n",
              "Adm. de rede                      1\n",
              "Adm. De Sistemas / Aplicações     1\n",
              "Agile Coach                       1\n",
              "Agile Master                      1\n",
              "Analista de Aplicações            1\n",
              "Analista de BI / Big Data         1\n",
              "Analista de Governança            1\n",
              "Analista de Implantação           1\n",
              "Analista de Infraestrutura        1\n",
              "Analista de Integração            1\n",
              "Analista de monitoramento         1\n",
              "Analista de Negócios              1\n",
              "Analista de processos             1\n",
              "Analista de Projetos              1\n",
              "Analista de Qualidade             1\n",
              "Analista de Requisitos            1\n",
              "Analista de segurança             1\n",
              "Analista de Telecomunicações      1\n",
              "Analista de testes                1\n",
              "Analista Funcional                1\n",
              "Analista Microinformática         1\n",
              "Web Designer                      1\n",
              "Name: Cargo, dtype: int64"
            ]
          },
          "execution_count": 3,
          "metadata": {},
          "output_type": "execute_result"
        }
      ],
      "source": [
        "# vendo valores repetidos\n",
        "\n",
        "df['Cargo'].value_counts() # usamos o value.counts() para contar os valores da tabela na coluna cargo\n",
        "                           # assim poderemos ver quantas vezes cada Cargo se repete"
      ]
    },
    {
      "cell_type": "markdown",
      "metadata": {
        "id": "O1KHqUXSJik6"
      },
      "source": [
        "Os colchetes[] no caso do código abaixo está servindo para localizar uma coluna no data frame especificado antes\n",
        "\n",
        "Df é o dataframe que definimos lá em cima, o ['Cargo'] é especificando a coluna do dataframe"
      ]
    },
    {
      "cell_type": "code",
      "execution_count": null,
      "metadata": {
        "id": "dbclQ_-oI2Pc"
      },
      "outputs": [],
      "source": [
        "# criando um data frame para os cargos mais repetidos\n",
        "\n",
        "# separamos aqui o nosso dataframe principal \"df\" em quatro outros\n",
        "# cada um atriubuido para cada cargo que mais se repetiu\n",
        "\n",
        "programador = df[df['Cargo'] == 'Programador'] # aqui por exemplo criei um dataframe puxando os dados aonde na \n",
        "                                               # na coluna cargo seria == a programador\n",
        "                                               # a mesma coisa foi feita nos itens seguintes\n",
        "                                               \n",
        "anpro = df[df['Cargo'] == 'Analista Programador']\n",
        "ansup = df[df['Cargo'] == 'Analista de Suporte']\n",
        "ansis = df[df['Cargo'] == 'Analista de sistemas']"
      ]
    },
    {
      "cell_type": "markdown",
      "metadata": {
        "id": "G0anhDd1Jik-"
      },
      "source": [
        "# Mostrando cada DATA FRAME criado nas celulas anteriores"
      ]
    },
    {
      "cell_type": "code",
      "execution_count": null,
      "metadata": {
        "id": "KK_6zOYBI2Pe",
        "outputId": "228f03e4-9b4d-4581-e1a5-fe7fcf43ea7c"
      },
      "outputs": [
        {
          "data": {
            "text/html": [
              "<div>\n",
              "<style scoped>\n",
              "    .dataframe tbody tr th:only-of-type {\n",
              "        vertical-align: middle;\n",
              "    }\n",
              "\n",
              "    .dataframe tbody tr th {\n",
              "        vertical-align: top;\n",
              "    }\n",
              "\n",
              "    .dataframe thead th {\n",
              "        text-align: right;\n",
              "    }\n",
              "</style>\n",
              "<table border=\"1\" class=\"dataframe\">\n",
              "  <thead>\n",
              "    <tr style=\"text-align: right;\">\n",
              "      <th></th>\n",
              "      <th>Cargo</th>\n",
              "      <th>Especialidade</th>\n",
              "      <th>CLT</th>\n",
              "      <th>Terceiro</th>\n",
              "    </tr>\n",
              "  </thead>\n",
              "  <tbody>\n",
              "    <tr>\n",
              "      <th>70</th>\n",
              "      <td>Programador</td>\n",
              "      <td>C#</td>\n",
              "      <td>4859</td>\n",
              "      <td>6636.0</td>\n",
              "    </tr>\n",
              "    <tr>\n",
              "      <th>71</th>\n",
              "      <td>Programador</td>\n",
              "      <td>Java</td>\n",
              "      <td>5681</td>\n",
              "      <td>7626.0</td>\n",
              "    </tr>\n",
              "    <tr>\n",
              "      <th>72</th>\n",
              "      <td>Programador</td>\n",
              "      <td>PHP</td>\n",
              "      <td>3751</td>\n",
              "      <td>4989.0</td>\n",
              "    </tr>\n",
              "    <tr>\n",
              "      <th>73</th>\n",
              "      <td>Programador</td>\n",
              "      <td>Delphi</td>\n",
              "      <td>3200</td>\n",
              "      <td>4096.0</td>\n",
              "    </tr>\n",
              "    <tr>\n",
              "      <th>74</th>\n",
              "      <td>Programador</td>\n",
              "      <td>Visual Basic</td>\n",
              "      <td>2489</td>\n",
              "      <td>3102.0</td>\n",
              "    </tr>\n",
              "    <tr>\n",
              "      <th>75</th>\n",
              "      <td>Programador</td>\n",
              "      <td>ABAP</td>\n",
              "      <td>6111</td>\n",
              "      <td>8012.0</td>\n",
              "    </tr>\n",
              "    <tr>\n",
              "      <th>76</th>\n",
              "      <td>Programador</td>\n",
              "      <td>Cobol</td>\n",
              "      <td>3758</td>\n",
              "      <td>4998.0</td>\n",
              "    </tr>\n",
              "    <tr>\n",
              "      <th>77</th>\n",
              "      <td>Programador</td>\n",
              "      <td>Java Script</td>\n",
              "      <td>2868</td>\n",
              "      <td>3528.0</td>\n",
              "    </tr>\n",
              "    <tr>\n",
              "      <th>78</th>\n",
              "      <td>Programador</td>\n",
              "      <td>Python</td>\n",
              "      <td>3998</td>\n",
              "      <td>4758.0</td>\n",
              "    </tr>\n",
              "    <tr>\n",
              "      <th>79</th>\n",
              "      <td>Programador</td>\n",
              "      <td>Visual Studio</td>\n",
              "      <td>5149</td>\n",
              "      <td>6636.0</td>\n",
              "    </tr>\n",
              "  </tbody>\n",
              "</table>\n",
              "</div>"
            ],
            "text/plain": [
              "          Cargo  Especialidade   CLT  Terceiro\n",
              "70  Programador             C#  4859    6636.0\n",
              "71  Programador           Java  5681    7626.0\n",
              "72  Programador            PHP  3751    4989.0\n",
              "73  Programador         Delphi  3200    4096.0\n",
              "74  Programador   Visual Basic  2489    3102.0\n",
              "75  Programador           ABAP  6111    8012.0\n",
              "76  Programador          Cobol  3758    4998.0\n",
              "77  Programador    Java Script  2868    3528.0\n",
              "78  Programador         Python  3998    4758.0\n",
              "79  Programador  Visual Studio  5149    6636.0"
            ]
          },
          "execution_count": 5,
          "metadata": {},
          "output_type": "execute_result"
        }
      ],
      "source": [
        "programador"
      ]
    },
    {
      "cell_type": "code",
      "execution_count": null,
      "metadata": {
        "id": "0yul_DN7I2Pf",
        "outputId": "fe4e5748-7cf3-4dc1-93e5-569cbc62afbd"
      },
      "outputs": [
        {
          "data": {
            "text/html": [
              "<div>\n",
              "<style scoped>\n",
              "    .dataframe tbody tr th:only-of-type {\n",
              "        vertical-align: middle;\n",
              "    }\n",
              "\n",
              "    .dataframe tbody tr th {\n",
              "        vertical-align: top;\n",
              "    }\n",
              "\n",
              "    .dataframe thead th {\n",
              "        text-align: right;\n",
              "    }\n",
              "</style>\n",
              "<table border=\"1\" class=\"dataframe\">\n",
              "  <thead>\n",
              "    <tr style=\"text-align: right;\">\n",
              "      <th></th>\n",
              "      <th>Cargo</th>\n",
              "      <th>Especialidade</th>\n",
              "      <th>CLT</th>\n",
              "      <th>Terceiro</th>\n",
              "    </tr>\n",
              "  </thead>\n",
              "  <tbody>\n",
              "    <tr>\n",
              "      <th>36</th>\n",
              "      <td>Analista Programador</td>\n",
              "      <td>C#</td>\n",
              "      <td>6569</td>\n",
              "      <td>9111.0</td>\n",
              "    </tr>\n",
              "    <tr>\n",
              "      <th>37</th>\n",
              "      <td>Analista Programador</td>\n",
              "      <td>Java</td>\n",
              "      <td>6996</td>\n",
              "      <td>8858.0</td>\n",
              "    </tr>\n",
              "    <tr>\n",
              "      <th>38</th>\n",
              "      <td>Analista Programador</td>\n",
              "      <td>ASP</td>\n",
              "      <td>4223</td>\n",
              "      <td>5633.0</td>\n",
              "    </tr>\n",
              "    <tr>\n",
              "      <th>39</th>\n",
              "      <td>Analista Programador</td>\n",
              "      <td>Mainframe</td>\n",
              "      <td>5177</td>\n",
              "      <td>6988.0</td>\n",
              "    </tr>\n",
              "    <tr>\n",
              "      <th>40</th>\n",
              "      <td>Analista Programador</td>\n",
              "      <td>PHP</td>\n",
              "      <td>4403</td>\n",
              "      <td>5267.0</td>\n",
              "    </tr>\n",
              "    <tr>\n",
              "      <th>41</th>\n",
              "      <td>Analista Programador</td>\n",
              "      <td>C++</td>\n",
              "      <td>5714</td>\n",
              "      <td>7320.0</td>\n",
              "    </tr>\n",
              "    <tr>\n",
              "      <th>42</th>\n",
              "      <td>Analista Programador</td>\n",
              "      <td>ABAP</td>\n",
              "      <td>7597</td>\n",
              "      <td>9853.0</td>\n",
              "    </tr>\n",
              "    <tr>\n",
              "      <th>43</th>\n",
              "      <td>Analista Programador</td>\n",
              "      <td>Python</td>\n",
              "      <td>4711</td>\n",
              "      <td>5927.0</td>\n",
              "    </tr>\n",
              "    <tr>\n",
              "      <th>44</th>\n",
              "      <td>Analista Programador</td>\n",
              "      <td>Delphi</td>\n",
              "      <td>4501</td>\n",
              "      <td>5844.0</td>\n",
              "    </tr>\n",
              "    <tr>\n",
              "      <th>45</th>\n",
              "      <td>Analista Programador</td>\n",
              "      <td>Oracle PL/SQL</td>\n",
              "      <td>6638</td>\n",
              "      <td>8655.0</td>\n",
              "    </tr>\n",
              "  </tbody>\n",
              "</table>\n",
              "</div>"
            ],
            "text/plain": [
              "                   Cargo  Especialidade   CLT  Terceiro\n",
              "36  Analista Programador             C#  6569    9111.0\n",
              "37  Analista Programador           Java  6996    8858.0\n",
              "38  Analista Programador            ASP  4223    5633.0\n",
              "39  Analista Programador      Mainframe  5177    6988.0\n",
              "40  Analista Programador            PHP  4403    5267.0\n",
              "41  Analista Programador            C++  5714    7320.0\n",
              "42  Analista Programador           ABAP  7597    9853.0\n",
              "43  Analista Programador         Python  4711    5927.0\n",
              "44  Analista Programador         Delphi  4501    5844.0\n",
              "45  Analista Programador  Oracle PL/SQL  6638    8655.0"
            ]
          },
          "execution_count": 6,
          "metadata": {},
          "output_type": "execute_result"
        }
      ],
      "source": [
        "anpro"
      ]
    },
    {
      "cell_type": "code",
      "execution_count": null,
      "metadata": {
        "id": "2rh_n0JfI2Pg",
        "outputId": "ea8bf1a6-3979-4009-c78a-d54db12e5957"
      },
      "outputs": [
        {
          "data": {
            "text/html": [
              "<div>\n",
              "<style scoped>\n",
              "    .dataframe tbody tr th:only-of-type {\n",
              "        vertical-align: middle;\n",
              "    }\n",
              "\n",
              "    .dataframe tbody tr th {\n",
              "        vertical-align: top;\n",
              "    }\n",
              "\n",
              "    .dataframe thead th {\n",
              "        text-align: right;\n",
              "    }\n",
              "</style>\n",
              "<table border=\"1\" class=\"dataframe\">\n",
              "  <thead>\n",
              "    <tr style=\"text-align: right;\">\n",
              "      <th></th>\n",
              "      <th>Cargo</th>\n",
              "      <th>Especialidade</th>\n",
              "      <th>CLT</th>\n",
              "      <th>Terceiro</th>\n",
              "    </tr>\n",
              "  </thead>\n",
              "  <tbody>\n",
              "    <tr>\n",
              "      <th>26</th>\n",
              "      <td>Analista de Suporte</td>\n",
              "      <td>Mainframe</td>\n",
              "      <td>5301</td>\n",
              "      <td>6149.0</td>\n",
              "    </tr>\n",
              "    <tr>\n",
              "      <th>27</th>\n",
              "      <td>Analista de Suporte</td>\n",
              "      <td>Unix</td>\n",
              "      <td>4872</td>\n",
              "      <td>5798.0</td>\n",
              "    </tr>\n",
              "    <tr>\n",
              "      <th>28</th>\n",
              "      <td>Analista de Suporte</td>\n",
              "      <td>ERP</td>\n",
              "      <td>3675</td>\n",
              "      <td>4190.0</td>\n",
              "    </tr>\n",
              "    <tr>\n",
              "      <th>29</th>\n",
              "      <td>Analista de Suporte</td>\n",
              "      <td>Redes</td>\n",
              "      <td>3427</td>\n",
              "      <td>4304.0</td>\n",
              "    </tr>\n",
              "    <tr>\n",
              "      <th>30</th>\n",
              "      <td>Analista de Suporte</td>\n",
              "      <td>Windows</td>\n",
              "      <td>2939</td>\n",
              "      <td>3644.0</td>\n",
              "    </tr>\n",
              "    <tr>\n",
              "      <th>31</th>\n",
              "      <td>Analista de Suporte</td>\n",
              "      <td>Linux</td>\n",
              "      <td>2918</td>\n",
              "      <td>3203.0</td>\n",
              "    </tr>\n",
              "  </tbody>\n",
              "</table>\n",
              "</div>"
            ],
            "text/plain": [
              "                  Cargo Especialidade   CLT  Terceiro\n",
              "26  Analista de Suporte     Mainframe  5301    6149.0\n",
              "27  Analista de Suporte          Unix  4872    5798.0\n",
              "28  Analista de Suporte           ERP  3675    4190.0\n",
              "29  Analista de Suporte         Redes  3427    4304.0\n",
              "30  Analista de Suporte       Windows  2939    3644.0\n",
              "31  Analista de Suporte         Linux  2918    3203.0"
            ]
          },
          "execution_count": 7,
          "metadata": {},
          "output_type": "execute_result"
        }
      ],
      "source": [
        "ansup"
      ]
    },
    {
      "cell_type": "code",
      "execution_count": null,
      "metadata": {
        "id": "EfYn_PmvI2Pi",
        "outputId": "9caf122b-5c5f-4300-a415-749923af4862"
      },
      "outputs": [
        {
          "data": {
            "text/html": [
              "<div>\n",
              "<style scoped>\n",
              "    .dataframe tbody tr th:only-of-type {\n",
              "        vertical-align: middle;\n",
              "    }\n",
              "\n",
              "    .dataframe tbody tr th {\n",
              "        vertical-align: top;\n",
              "    }\n",
              "\n",
              "    .dataframe thead th {\n",
              "        text-align: right;\n",
              "    }\n",
              "</style>\n",
              "<table border=\"1\" class=\"dataframe\">\n",
              "  <thead>\n",
              "    <tr style=\"text-align: right;\">\n",
              "      <th></th>\n",
              "      <th>Cargo</th>\n",
              "      <th>Especialidade</th>\n",
              "      <th>CLT</th>\n",
              "      <th>Terceiro</th>\n",
              "    </tr>\n",
              "  </thead>\n",
              "  <tbody>\n",
              "    <tr>\n",
              "      <th>21</th>\n",
              "      <td>Analista de sistemas</td>\n",
              "      <td>Mainframe</td>\n",
              "      <td>6201</td>\n",
              "      <td>7689.0</td>\n",
              "    </tr>\n",
              "    <tr>\n",
              "      <th>22</th>\n",
              "      <td>Analista de sistemas</td>\n",
              "      <td>C#</td>\n",
              "      <td>6502</td>\n",
              "      <td>8413.0</td>\n",
              "    </tr>\n",
              "    <tr>\n",
              "      <th>23</th>\n",
              "      <td>Analista de sistemas</td>\n",
              "      <td>Java</td>\n",
              "      <td>8085</td>\n",
              "      <td>12401.0</td>\n",
              "    </tr>\n",
              "    <tr>\n",
              "      <th>24</th>\n",
              "      <td>Analista de sistemas</td>\n",
              "      <td>PHP</td>\n",
              "      <td>4664</td>\n",
              "      <td>6035.0</td>\n",
              "    </tr>\n",
              "    <tr>\n",
              "      <th>25</th>\n",
              "      <td>Analista de sistemas</td>\n",
              "      <td>Oracle PL/SQL</td>\n",
              "      <td>6822</td>\n",
              "      <td>8629.0</td>\n",
              "    </tr>\n",
              "  </tbody>\n",
              "</table>\n",
              "</div>"
            ],
            "text/plain": [
              "                   Cargo  Especialidade   CLT  Terceiro\n",
              "21  Analista de sistemas      Mainframe  6201    7689.0\n",
              "22  Analista de sistemas             C#  6502    8413.0\n",
              "23  Analista de sistemas           Java  8085   12401.0\n",
              "24  Analista de sistemas            PHP  4664    6035.0\n",
              "25  Analista de sistemas  Oracle PL/SQL  6822    8629.0"
            ]
          },
          "execution_count": 8,
          "metadata": {},
          "output_type": "execute_result"
        }
      ],
      "source": [
        "ansis"
      ]
    },
    {
      "cell_type": "markdown",
      "metadata": {
        "id": "sOzpNIGWJilF"
      },
      "source": [
        "# Serve para o código do terceirizados e dos clt pois eles usam a mesma lógica\n",
        "\n",
        "Fazendo uma média para os contratados por CLT e pelo contratados que são Terceirizados:\n",
        "\n",
        "Passo 1- Transformação dos valores das colunas para lista, colunas \"terceirizado\" e \"clt\"\n",
        "\n",
        "Passo 2- Usamos o comando de repetição \"for\" para fazer uma soma de todos os valores que criamos nas listas do passo 1, fora do comando \"for\" fazemos uma média dessa soma total que fizemos usando a estrutura de repetição dividindo pelo tamanho da lista, lembrando que é uma lista para cada cargo e uma soma total para cada cargo, as variaveis explicam bem isso, como por exemplo \"soma_t_pro\"."
      ]
    },
    {
      "cell_type": "markdown",
      "metadata": {
        "id": "DoZilNC8JilH"
      },
      "source": [
        "# Atenção!!! A próxima celula é somente para o salário de terceirizados\n"
      ]
    },
    {
      "cell_type": "markdown",
      "metadata": {
        "id": "0jQ_13msJilI"
      },
      "source": [
        "# Terceirizados"
      ]
    },
    {
      "cell_type": "code",
      "execution_count": null,
      "metadata": {
        "colab": {
          "base_uri": "https://localhost:8080/"
        },
        "id": "N6Y4POFRI2Pj",
        "outputId": "18b52f89-05c1-4859-8c62-c4d3e67eb92d"
      },
      "outputs": [
        {
          "name": "stdout",
          "output_type": "stream",
          "text": [
            "Terc_programador 54381.0 5438.1\n",
            "Terc_analista_programador 73456.0 7345.6\n",
            "Terc_analista_suporte 27288.0 4548.0\n",
            "Terc_analista_sistemas 43167.0 8633.4\n"
          ]
        }
      ],
      "source": [
        "# tratando os dados para calcular a soma e a media\n",
        "# para terceirizado\n",
        "\n",
        "# PASSO 1\n",
        "# criamos uma lista para cada dataframe que separamos, lembrando que aqui é\n",
        "# somente da coluna terceiro, então transformamos somente elas em listas\n",
        "\n",
        "t_programador = programador['Terceiro'].tolist() # comando .tolist() usado para transformar a coluna numa lista\n",
        "t_anpro = anpro['Terceiro'].tolist()\n",
        "t_ansup =ansup['Terceiro'].tolist()\n",
        "t_ansis = ansis['Terceiro'].tolist()\n",
        "\n",
        "#PASSO 2\n",
        "\n",
        "# usando o for para criar uma média para cada cargo\n",
        "\n",
        "soma_t_pro = 0 # atribuimos um 0 aqui nessa variável para que seja possivel ser somado na nossa estrutura\n",
        "               # de repetição\n",
        "\n",
        "# usamos o for para criar nossa somatória total dos valores das nossas listas\n",
        "# len(t_programador) é o tamanho da nossa lista\n",
        "# o comando \" for i in range (len(t_programador)\" é para a cada repetição ele atribuir\n",
        "# uma posição da lista ao comando i, por exemplo, na primeira repetição o \"i\" será o 0, na segunda\n",
        "# será 1, e assim até chegar a ultima posição da lista\n",
        "\n",
        "# no comando a baixo usamos essa repetição para fazer a soma\n",
        "# então na primeira repetição nosso soma_t_pro é igual a 0\n",
        "# ai ele vai somar 0 mais o primeiro valor da nossa lista\n",
        "# por exemplo, vamos dizer que nosso valor é 6000, ele vai somar 6000 + 0\n",
        "# então na segunda repetição ele não será mais 0, será 6000, ai ele vai somar o 6000\n",
        "# mais o segundo valor da lista e assim por diante até o final\n",
        "# usamos a mesma logica para as outras listas\n",
        "\n",
        "for i in range (len(t_programador)): \n",
        "  soma_t_pro = soma_t_pro + t_programador[i]\n",
        "media_pro = soma_t_pro/len(t_programador)\n",
        "print('Terc_programador',soma_t_pro, media_pro)\n",
        "\n",
        "#mesma logica da explicação de cima\n",
        "\n",
        "soma_t_anpro = 0\n",
        "for i in range (len(t_anpro)):\n",
        "  soma_t_anpro = soma_t_anpro + t_anpro[i]\n",
        "media_anpro = soma_t_anpro/len(t_anpro)\n",
        "print('Terc_analista_programador',soma_t_anpro, media_anpro)\n",
        "\n",
        "soma_t_ansup = 0\n",
        "for i in range (len(t_ansup)):\n",
        "  soma_t_ansup = soma_t_ansup + t_ansup[i]\n",
        "media_ansup = soma_t_ansup/len(t_ansup)\n",
        "print('Terc_analista_suporte', soma_t_ansup, media_ansup)\n",
        "\n",
        "soma_t_ansis = 0\n",
        "for i in range (len(t_ansis)):\n",
        "  soma_t_ansis = soma_t_ansis + t_ansis[i]\n",
        "media_ansis = soma_t_ansis/len(t_ansis)\n",
        "print('Terc_analista_sistemas',soma_t_ansis, media_ansis) # os prints foram usados para podermos visualizar a\n",
        "                                                          # somatória total de cada cargo e suas respecitivas médias\n",
        "\n"
      ]
    },
    {
      "cell_type": "markdown",
      "metadata": {
        "id": "RK0uw0SSJilN"
      },
      "source": [
        "Abaixo iremos criar um novo dataframe a partir dos dados que conseguimos com o código explicado acima\n",
        "\n",
        "Usamos a biblioteca Pandas, com o seu comando pd.Dataframe \n",
        "\n",
        "Como funciona esse comando?\n",
        "\n",
        "Aqui está um link para vocês darem uma olhada na documentação dele:https://pandas.pydata.org/docs/reference/api/pandas.DataFrame.html\n",
        "\n",
        "Explicando: o comando pd.DataFrame pela sua documentação pede para, primeiro indicarmos nossa \"data\" o que seria isso? São os dados do dataframe que queremos criar, logo após ele pede um index, e o que seria isso? Index é, de acordo com a documentação é o nosso indice bem simples, nossas linhas\n",
        "Isso é um indice:\n",
        "1.\n",
        "2.\n",
        "3.\n",
        "4.\n",
        "Então passaremos um index para ele, dizendo quantas linhas temos no nosso dataframe, também podemos falar que indicaremos um indice para o nosso dataframe.\n",
        "Pela documentação também pede o comando \"columns\" que é para especificar nossas colunas\n",
        "\n",
        "Como usamos esses comandos que expliquei\n",
        "\n",
        "Vocês podem ver que especifiquei uma variável \"columns\" certo? Dentro dela está ['Cargo', 'Terceiro'] porque é o nome das colunas que queremos, poderiámos colocar qualquer nome nelas, então tentem trocar ai e coloque qualquer nome e vcs vão poder ver melhor.\n",
        "\n",
        "Logo depois temos a variável \"line\" ela servirá para o nosso indice, o nosso index no comando pd.dataframe, dentro deles entre colchetes podemos ver que estão entre aspas vazias, pois eu quero só 4 linhas que não mostrem nada, experimentem colocar os numeros 1, 2, 3 e 4 dentro dessas aspas e rodem o código vocês conseguiram entender melhor a lógica\n",
        "logo após nós passamos a variável dados, para? Para usarmos no comando data que expliquei lá em cima, os dados são feitos da seguinte maneira, abrimos um colchetes e especificamos primeiro o nome ou o dado que será passado na nossa primeira coluna, como sabemos qual vai ser nossa primeira coluna? Olhem para a variável column a primeira, o primeiro nome que passamos é 'cargo', e o segundo terceiro, então vocês iram seguir essa ordem.\n",
        "\n",
        "Exemplo:\n",
        "\n",
        "Na primeira parte da nossa variável \"dados\" temos ['Analista de suporte', media_ansup] que serão atribuidads respecitvamentes para a coluna 'cargo' e 'terceiro'"
      ]
    },
    {
      "cell_type": "code",
      "execution_count": null,
      "metadata": {
        "colab": {
          "base_uri": "https://localhost:8080/"
        },
        "id": "SYNCOrVmSw0p",
        "outputId": "8d36b470-540c-41d4-ce42-1b00f97a88a2"
      },
      "outputs": [
        {
          "name": "stdout",
          "output_type": "stream",
          "text": [
            "                 Cargo  Terceiro\n",
            "   Analista de Suporte    4548.0\n",
            "           Programador    5438.1\n",
            "  Analista programador    7345.6\n",
            "  Analista de sistemas    8633.4\n"
          ]
        }
      ],
      "source": [
        "# criando um novo dataframe\n",
        "# para terceirizado\n",
        "\n",
        "column = 'Cargo', 'Terceiro'\n",
        "line = '', '','',''\n",
        "dados = [['Analista de Suporte', media_ansup], ['Programador', media_pro]\n",
        "         , ['Analista programador', media_anpro], ['Analista de sistemas', media_ansis]]\n",
        "tb_terceiro = pd.DataFrame(data=dados, index=line, columns=column) # tb_terceiro é o nome do nosso novo dataframe\n",
        "print(tb_terceiro)    \n",
        "\n"
      ]
    },
    {
      "cell_type": "markdown",
      "metadata": {
        "id": "rnj-07yKJilS"
      },
      "source": [
        "A próxima célula usa a mesma lógica do terceiro lá de cima é igual creio que não precise de explicação\n",
        "Mas se precisar é só olhar a primeira explicação que dei para o comando for dos terceiros lá em cima, só que aqui usamos para a o salários de clt"
      ]
    },
    {
      "cell_type": "code",
      "execution_count": null,
      "metadata": {
        "colab": {
          "base_uri": "https://localhost:8080/"
        },
        "id": "KeGnif-jS0oo",
        "outputId": "561102ba-3549-4ac2-e502-f3be85028d19"
      },
      "outputs": [
        {
          "name": "stdout",
          "output_type": "stream",
          "text": [
            "CLT_programador 41864 4186.4\n",
            "CLT_analista_programador 56529 5652.9\n",
            "CLT_analista_suporte 23132 3855.3333333333335\n",
            "CLT_analista_sistemas 32274 6454.8\n"
          ]
        }
      ],
      "source": [
        "# tratando os dados para calcular a soma e a media\n",
        "# para o CLT\n",
        "\n",
        "clt_programador = programador['CLT'].tolist()\n",
        "clt_anpro = anpro['CLT'].tolist()\n",
        "clt_ansup =ansup['CLT'].tolist()\n",
        "clt_ansis = ansis['CLT'].tolist()\n",
        "\n",
        "soma_clt_pro = 0\n",
        "for i in range (len(clt_programador)):\n",
        "  soma_clt_pro = soma_clt_pro + clt_programador[i]\n",
        "media_clt_pro = soma_clt_pro/len(clt_programador)\n",
        "print('CLT_programador', soma_clt_pro, media_clt_pro)\n",
        "\n",
        "soma_clt_anpro = 0\n",
        "for i in range (len(clt_anpro)):\n",
        "  soma_clt_anpro = soma_clt_anpro + clt_anpro[i]\n",
        "media_clt_anpro = soma_clt_anpro/len(clt_anpro)\n",
        "print('CLT_analista_programador', soma_clt_anpro, media_clt_anpro)\n",
        "\n",
        "soma_clt_ansup = 0\n",
        "for i in range (len(clt_ansup)):\n",
        "  soma_clt_ansup = soma_clt_ansup + clt_ansup[i]\n",
        "media_clt_ansup = soma_clt_ansup/len(clt_ansup)\n",
        "print('CLT_analista_suporte', soma_clt_ansup, media_clt_ansup)\n",
        "\n",
        "soma_clt_ansis = 0\n",
        "for i in range (len(clt_ansis)):\n",
        "  soma_clt_ansis = soma_clt_ansis + clt_ansis[i]\n",
        "media_clt_ansis = soma_clt_ansis/len(clt_ansis)\n",
        "print('CLT_analista_sistemas',soma_clt_ansis, media_clt_ansis)\n",
        "\n"
      ]
    },
    {
      "cell_type": "markdown",
      "metadata": {
        "id": "xLeHROR0JilU"
      },
      "source": [
        "A ideia de dataframe é a mesma de lá de cima"
      ]
    },
    {
      "cell_type": "code",
      "execution_count": null,
      "metadata": {
        "colab": {
          "base_uri": "https://localhost:8080/"
        },
        "id": "hoCve0QkS2tP",
        "outputId": "4ac1ed1e-e1cd-4fb1-bc88-3a501d8db3b2"
      },
      "outputs": [
        {
          "name": "stdout",
          "output_type": "stream",
          "text": [
            "                 Cargo          CLT\n",
            "   Analista de Suporte  3855.333333\n",
            "           Programador  4186.400000\n",
            "  Analista programador  5652.900000\n",
            "  Analista de sistemas  6454.800000\n"
          ]
        }
      ],
      "source": [
        "# criando um novo dataframe\n",
        "# para o CLT\n",
        "column = ['Cargo', 'CLT']\n",
        "line = ['', '','','']\n",
        "dados = [['Analista de Suporte', media_clt_ansup], ['Programador', media_clt_pro]\n",
        "         , ['Analista programador', media_clt_anpro], ['Analista de sistemas', media_clt_ansis]]\n",
        "tb_clt = pd.DataFrame(data=dados, index=line, columns=column) # mesma lógica do dataframe do terceiro, porém para o clt\n",
        "                                                              # só atribuimos o nome tb_clt para o nosso novo dataframe\n",
        "print(tb_clt)"
      ]
    },
    {
      "cell_type": "markdown",
      "metadata": {
        "id": "S7SkPhuQJilW"
      },
      "source": [
        "# Criando nosso gráfico"
      ]
    },
    {
      "cell_type": "markdown",
      "metadata": {
        "id": "57IqVz6NJilW"
      },
      "source": [
        "Como criamos nosso gráfico? Primeiro a gente criou a variável \"fig\" lembrando ela poderia ser qualquer coisa,poderia ser \"grafico\" também, mas fig remete a figura né, creio que isso deu pra entender, dentro dela jogamos o comando da plotly.graph_objects, que é o go.Figure() e pra que ele serve? Para criar uma figura, só isso\n",
        "\n",
        "Logo apos usamos o comando .add_trace, alguns podem estar se perguntando mas porque tem esse \"fig\" antes? Pq ele é a figura que iniciamos, então ai está dizendo que iremos adicionar um traço, um gráfico nessa figura.\n",
        "\n",
        "Usamos o comando go.Funnel() para criar um gráfico de funil, de acordo com a documentação, passamos qual será o nome do nosso primeiro traço para ele ficar identificado no gráfico, ent colocamos name='Terceiro', no eixo y queremos os valores da tabela terceiro na coluna cargo, então fica tb_terceiro['Cargo'], já no eixo x queremos a mesma tabela mas na coluna Terciro assim ficando tb_terceiro['Terceiro']\n",
        "\n",
        "Usamos a mesma lógica para criar um segundo traço, esse sendo usado os dados da tb_clt. É a mesma lógica\n",
        "\n",
        "o .update_layout() é por pura estetica, só definimos um titulo e um background para o gráfico\n",
        "\n",
        "O fig.show() é para mostrar o gráfico"
      ]
    },
    {
      "cell_type": "code",
      "execution_count": null,
      "metadata": {
        "colab": {
          "base_uri": "https://localhost:8080/",
          "height": 542
        },
        "id": "hVVpQFvwK8Qv",
        "outputId": "aaac18d9-2925-4927-cb01-7434ceeb0ec9"
      },
      "outputs": [
        {
          "data": {
            "application/vnd.plotly.v1+json": {
              "config": {
                "plotlyServerURL": "https://plot.ly"
              },
              "data": [
                {
                  "name": "Terceiro",
                  "type": "funnel",
                  "x": [
                    4548,
                    5438.1,
                    7345.6,
                    8633.4
                  ],
                  "y": [
                    "Analista de Suporte",
                    "Programador",
                    "Analista programador",
                    "Analista de sistemas"
                  ]
                },
                {
                  "name": "CLT",
                  "type": "funnel",
                  "x": [
                    3855.3333333333335,
                    4186.4,
                    5652.9,
                    6454.8
                  ],
                  "y": [
                    "Analista de Suporte",
                    "Programador",
                    "Analista programador",
                    "Analista de sistemas"
                  ]
                }
              ],
              "layout": {
                "template": {
                  "data": {
                    "bar": [
                      {
                        "error_x": {
                          "color": "#f2f5fa"
                        },
                        "error_y": {
                          "color": "#f2f5fa"
                        },
                        "marker": {
                          "line": {
                            "color": "rgb(17,17,17)",
                            "width": 0.5
                          },
                          "pattern": {
                            "fillmode": "overlay",
                            "size": 10,
                            "solidity": 0.2
                          }
                        },
                        "type": "bar"
                      }
                    ],
                    "barpolar": [
                      {
                        "marker": {
                          "line": {
                            "color": "rgb(17,17,17)",
                            "width": 0.5
                          },
                          "pattern": {
                            "fillmode": "overlay",
                            "size": 10,
                            "solidity": 0.2
                          }
                        },
                        "type": "barpolar"
                      }
                    ],
                    "carpet": [
                      {
                        "aaxis": {
                          "endlinecolor": "#A2B1C6",
                          "gridcolor": "#506784",
                          "linecolor": "#506784",
                          "minorgridcolor": "#506784",
                          "startlinecolor": "#A2B1C6"
                        },
                        "baxis": {
                          "endlinecolor": "#A2B1C6",
                          "gridcolor": "#506784",
                          "linecolor": "#506784",
                          "minorgridcolor": "#506784",
                          "startlinecolor": "#A2B1C6"
                        },
                        "type": "carpet"
                      }
                    ],
                    "choropleth": [
                      {
                        "colorbar": {
                          "outlinewidth": 0,
                          "ticks": ""
                        },
                        "type": "choropleth"
                      }
                    ],
                    "contour": [
                      {
                        "colorbar": {
                          "outlinewidth": 0,
                          "ticks": ""
                        },
                        "colorscale": [
                          [
                            0,
                            "#0d0887"
                          ],
                          [
                            0.1111111111111111,
                            "#46039f"
                          ],
                          [
                            0.2222222222222222,
                            "#7201a8"
                          ],
                          [
                            0.3333333333333333,
                            "#9c179e"
                          ],
                          [
                            0.4444444444444444,
                            "#bd3786"
                          ],
                          [
                            0.5555555555555556,
                            "#d8576b"
                          ],
                          [
                            0.6666666666666666,
                            "#ed7953"
                          ],
                          [
                            0.7777777777777778,
                            "#fb9f3a"
                          ],
                          [
                            0.8888888888888888,
                            "#fdca26"
                          ],
                          [
                            1,
                            "#f0f921"
                          ]
                        ],
                        "type": "contour"
                      }
                    ],
                    "contourcarpet": [
                      {
                        "colorbar": {
                          "outlinewidth": 0,
                          "ticks": ""
                        },
                        "type": "contourcarpet"
                      }
                    ],
                    "heatmap": [
                      {
                        "colorbar": {
                          "outlinewidth": 0,
                          "ticks": ""
                        },
                        "colorscale": [
                          [
                            0,
                            "#0d0887"
                          ],
                          [
                            0.1111111111111111,
                            "#46039f"
                          ],
                          [
                            0.2222222222222222,
                            "#7201a8"
                          ],
                          [
                            0.3333333333333333,
                            "#9c179e"
                          ],
                          [
                            0.4444444444444444,
                            "#bd3786"
                          ],
                          [
                            0.5555555555555556,
                            "#d8576b"
                          ],
                          [
                            0.6666666666666666,
                            "#ed7953"
                          ],
                          [
                            0.7777777777777778,
                            "#fb9f3a"
                          ],
                          [
                            0.8888888888888888,
                            "#fdca26"
                          ],
                          [
                            1,
                            "#f0f921"
                          ]
                        ],
                        "type": "heatmap"
                      }
                    ],
                    "heatmapgl": [
                      {
                        "colorbar": {
                          "outlinewidth": 0,
                          "ticks": ""
                        },
                        "colorscale": [
                          [
                            0,
                            "#0d0887"
                          ],
                          [
                            0.1111111111111111,
                            "#46039f"
                          ],
                          [
                            0.2222222222222222,
                            "#7201a8"
                          ],
                          [
                            0.3333333333333333,
                            "#9c179e"
                          ],
                          [
                            0.4444444444444444,
                            "#bd3786"
                          ],
                          [
                            0.5555555555555556,
                            "#d8576b"
                          ],
                          [
                            0.6666666666666666,
                            "#ed7953"
                          ],
                          [
                            0.7777777777777778,
                            "#fb9f3a"
                          ],
                          [
                            0.8888888888888888,
                            "#fdca26"
                          ],
                          [
                            1,
                            "#f0f921"
                          ]
                        ],
                        "type": "heatmapgl"
                      }
                    ],
                    "histogram": [
                      {
                        "marker": {
                          "pattern": {
                            "fillmode": "overlay",
                            "size": 10,
                            "solidity": 0.2
                          }
                        },
                        "type": "histogram"
                      }
                    ],
                    "histogram2d": [
                      {
                        "colorbar": {
                          "outlinewidth": 0,
                          "ticks": ""
                        },
                        "colorscale": [
                          [
                            0,
                            "#0d0887"
                          ],
                          [
                            0.1111111111111111,
                            "#46039f"
                          ],
                          [
                            0.2222222222222222,
                            "#7201a8"
                          ],
                          [
                            0.3333333333333333,
                            "#9c179e"
                          ],
                          [
                            0.4444444444444444,
                            "#bd3786"
                          ],
                          [
                            0.5555555555555556,
                            "#d8576b"
                          ],
                          [
                            0.6666666666666666,
                            "#ed7953"
                          ],
                          [
                            0.7777777777777778,
                            "#fb9f3a"
                          ],
                          [
                            0.8888888888888888,
                            "#fdca26"
                          ],
                          [
                            1,
                            "#f0f921"
                          ]
                        ],
                        "type": "histogram2d"
                      }
                    ],
                    "histogram2dcontour": [
                      {
                        "colorbar": {
                          "outlinewidth": 0,
                          "ticks": ""
                        },
                        "colorscale": [
                          [
                            0,
                            "#0d0887"
                          ],
                          [
                            0.1111111111111111,
                            "#46039f"
                          ],
                          [
                            0.2222222222222222,
                            "#7201a8"
                          ],
                          [
                            0.3333333333333333,
                            "#9c179e"
                          ],
                          [
                            0.4444444444444444,
                            "#bd3786"
                          ],
                          [
                            0.5555555555555556,
                            "#d8576b"
                          ],
                          [
                            0.6666666666666666,
                            "#ed7953"
                          ],
                          [
                            0.7777777777777778,
                            "#fb9f3a"
                          ],
                          [
                            0.8888888888888888,
                            "#fdca26"
                          ],
                          [
                            1,
                            "#f0f921"
                          ]
                        ],
                        "type": "histogram2dcontour"
                      }
                    ],
                    "mesh3d": [
                      {
                        "colorbar": {
                          "outlinewidth": 0,
                          "ticks": ""
                        },
                        "type": "mesh3d"
                      }
                    ],
                    "parcoords": [
                      {
                        "line": {
                          "colorbar": {
                            "outlinewidth": 0,
                            "ticks": ""
                          }
                        },
                        "type": "parcoords"
                      }
                    ],
                    "pie": [
                      {
                        "automargin": true,
                        "type": "pie"
                      }
                    ],
                    "scatter": [
                      {
                        "marker": {
                          "line": {
                            "color": "#283442"
                          }
                        },
                        "type": "scatter"
                      }
                    ],
                    "scatter3d": [
                      {
                        "line": {
                          "colorbar": {
                            "outlinewidth": 0,
                            "ticks": ""
                          }
                        },
                        "marker": {
                          "colorbar": {
                            "outlinewidth": 0,
                            "ticks": ""
                          }
                        },
                        "type": "scatter3d"
                      }
                    ],
                    "scattercarpet": [
                      {
                        "marker": {
                          "colorbar": {
                            "outlinewidth": 0,
                            "ticks": ""
                          }
                        },
                        "type": "scattercarpet"
                      }
                    ],
                    "scattergeo": [
                      {
                        "marker": {
                          "colorbar": {
                            "outlinewidth": 0,
                            "ticks": ""
                          }
                        },
                        "type": "scattergeo"
                      }
                    ],
                    "scattergl": [
                      {
                        "marker": {
                          "line": {
                            "color": "#283442"
                          }
                        },
                        "type": "scattergl"
                      }
                    ],
                    "scattermapbox": [
                      {
                        "marker": {
                          "colorbar": {
                            "outlinewidth": 0,
                            "ticks": ""
                          }
                        },
                        "type": "scattermapbox"
                      }
                    ],
                    "scatterpolar": [
                      {
                        "marker": {
                          "colorbar": {
                            "outlinewidth": 0,
                            "ticks": ""
                          }
                        },
                        "type": "scatterpolar"
                      }
                    ],
                    "scatterpolargl": [
                      {
                        "marker": {
                          "colorbar": {
                            "outlinewidth": 0,
                            "ticks": ""
                          }
                        },
                        "type": "scatterpolargl"
                      }
                    ],
                    "scatterternary": [
                      {
                        "marker": {
                          "colorbar": {
                            "outlinewidth": 0,
                            "ticks": ""
                          }
                        },
                        "type": "scatterternary"
                      }
                    ],
                    "surface": [
                      {
                        "colorbar": {
                          "outlinewidth": 0,
                          "ticks": ""
                        },
                        "colorscale": [
                          [
                            0,
                            "#0d0887"
                          ],
                          [
                            0.1111111111111111,
                            "#46039f"
                          ],
                          [
                            0.2222222222222222,
                            "#7201a8"
                          ],
                          [
                            0.3333333333333333,
                            "#9c179e"
                          ],
                          [
                            0.4444444444444444,
                            "#bd3786"
                          ],
                          [
                            0.5555555555555556,
                            "#d8576b"
                          ],
                          [
                            0.6666666666666666,
                            "#ed7953"
                          ],
                          [
                            0.7777777777777778,
                            "#fb9f3a"
                          ],
                          [
                            0.8888888888888888,
                            "#fdca26"
                          ],
                          [
                            1,
                            "#f0f921"
                          ]
                        ],
                        "type": "surface"
                      }
                    ],
                    "table": [
                      {
                        "cells": {
                          "fill": {
                            "color": "#506784"
                          },
                          "line": {
                            "color": "rgb(17,17,17)"
                          }
                        },
                        "header": {
                          "fill": {
                            "color": "#2a3f5f"
                          },
                          "line": {
                            "color": "rgb(17,17,17)"
                          }
                        },
                        "type": "table"
                      }
                    ]
                  },
                  "layout": {
                    "annotationdefaults": {
                      "arrowcolor": "#f2f5fa",
                      "arrowhead": 0,
                      "arrowwidth": 1
                    },
                    "autotypenumbers": "strict",
                    "coloraxis": {
                      "colorbar": {
                        "outlinewidth": 0,
                        "ticks": ""
                      }
                    },
                    "colorscale": {
                      "diverging": [
                        [
                          0,
                          "#8e0152"
                        ],
                        [
                          0.1,
                          "#c51b7d"
                        ],
                        [
                          0.2,
                          "#de77ae"
                        ],
                        [
                          0.3,
                          "#f1b6da"
                        ],
                        [
                          0.4,
                          "#fde0ef"
                        ],
                        [
                          0.5,
                          "#f7f7f7"
                        ],
                        [
                          0.6,
                          "#e6f5d0"
                        ],
                        [
                          0.7,
                          "#b8e186"
                        ],
                        [
                          0.8,
                          "#7fbc41"
                        ],
                        [
                          0.9,
                          "#4d9221"
                        ],
                        [
                          1,
                          "#276419"
                        ]
                      ],
                      "sequential": [
                        [
                          0,
                          "#0d0887"
                        ],
                        [
                          0.1111111111111111,
                          "#46039f"
                        ],
                        [
                          0.2222222222222222,
                          "#7201a8"
                        ],
                        [
                          0.3333333333333333,
                          "#9c179e"
                        ],
                        [
                          0.4444444444444444,
                          "#bd3786"
                        ],
                        [
                          0.5555555555555556,
                          "#d8576b"
                        ],
                        [
                          0.6666666666666666,
                          "#ed7953"
                        ],
                        [
                          0.7777777777777778,
                          "#fb9f3a"
                        ],
                        [
                          0.8888888888888888,
                          "#fdca26"
                        ],
                        [
                          1,
                          "#f0f921"
                        ]
                      ],
                      "sequentialminus": [
                        [
                          0,
                          "#0d0887"
                        ],
                        [
                          0.1111111111111111,
                          "#46039f"
                        ],
                        [
                          0.2222222222222222,
                          "#7201a8"
                        ],
                        [
                          0.3333333333333333,
                          "#9c179e"
                        ],
                        [
                          0.4444444444444444,
                          "#bd3786"
                        ],
                        [
                          0.5555555555555556,
                          "#d8576b"
                        ],
                        [
                          0.6666666666666666,
                          "#ed7953"
                        ],
                        [
                          0.7777777777777778,
                          "#fb9f3a"
                        ],
                        [
                          0.8888888888888888,
                          "#fdca26"
                        ],
                        [
                          1,
                          "#f0f921"
                        ]
                      ]
                    },
                    "colorway": [
                      "#636efa",
                      "#EF553B",
                      "#00cc96",
                      "#ab63fa",
                      "#FFA15A",
                      "#19d3f3",
                      "#FF6692",
                      "#B6E880",
                      "#FF97FF",
                      "#FECB52"
                    ],
                    "font": {
                      "color": "#f2f5fa"
                    },
                    "geo": {
                      "bgcolor": "rgb(17,17,17)",
                      "lakecolor": "rgb(17,17,17)",
                      "landcolor": "rgb(17,17,17)",
                      "showlakes": true,
                      "showland": true,
                      "subunitcolor": "#506784"
                    },
                    "hoverlabel": {
                      "align": "left"
                    },
                    "hovermode": "closest",
                    "mapbox": {
                      "style": "dark"
                    },
                    "paper_bgcolor": "rgb(17,17,17)",
                    "plot_bgcolor": "rgb(17,17,17)",
                    "polar": {
                      "angularaxis": {
                        "gridcolor": "#506784",
                        "linecolor": "#506784",
                        "ticks": ""
                      },
                      "bgcolor": "rgb(17,17,17)",
                      "radialaxis": {
                        "gridcolor": "#506784",
                        "linecolor": "#506784",
                        "ticks": ""
                      }
                    },
                    "scene": {
                      "xaxis": {
                        "backgroundcolor": "rgb(17,17,17)",
                        "gridcolor": "#506784",
                        "gridwidth": 2,
                        "linecolor": "#506784",
                        "showbackground": true,
                        "ticks": "",
                        "zerolinecolor": "#C8D4E3"
                      },
                      "yaxis": {
                        "backgroundcolor": "rgb(17,17,17)",
                        "gridcolor": "#506784",
                        "gridwidth": 2,
                        "linecolor": "#506784",
                        "showbackground": true,
                        "ticks": "",
                        "zerolinecolor": "#C8D4E3"
                      },
                      "zaxis": {
                        "backgroundcolor": "rgb(17,17,17)",
                        "gridcolor": "#506784",
                        "gridwidth": 2,
                        "linecolor": "#506784",
                        "showbackground": true,
                        "ticks": "",
                        "zerolinecolor": "#C8D4E3"
                      }
                    },
                    "shapedefaults": {
                      "line": {
                        "color": "#f2f5fa"
                      }
                    },
                    "sliderdefaults": {
                      "bgcolor": "#C8D4E3",
                      "bordercolor": "rgb(17,17,17)",
                      "borderwidth": 1,
                      "tickwidth": 0
                    },
                    "ternary": {
                      "aaxis": {
                        "gridcolor": "#506784",
                        "linecolor": "#506784",
                        "ticks": ""
                      },
                      "baxis": {
                        "gridcolor": "#506784",
                        "linecolor": "#506784",
                        "ticks": ""
                      },
                      "bgcolor": "rgb(17,17,17)",
                      "caxis": {
                        "gridcolor": "#506784",
                        "linecolor": "#506784",
                        "ticks": ""
                      }
                    },
                    "title": {
                      "x": 0.05
                    },
                    "updatemenudefaults": {
                      "bgcolor": "#506784",
                      "borderwidth": 0
                    },
                    "xaxis": {
                      "automargin": true,
                      "gridcolor": "#283442",
                      "linecolor": "#506784",
                      "ticks": "",
                      "title": {
                        "standoff": 15
                      },
                      "zerolinecolor": "#283442",
                      "zerolinewidth": 2
                    },
                    "yaxis": {
                      "automargin": true,
                      "gridcolor": "#283442",
                      "linecolor": "#506784",
                      "ticks": "",
                      "title": {
                        "standoff": 15
                      },
                      "zerolinecolor": "#283442",
                      "zerolinewidth": 2
                    }
                  }
                },
                "title": {
                  "text": "Comparação entre salários de contratados pela CLT e salários de terceirizados R$"
                }
              }
            }
          },
          "metadata": {},
          "output_type": "display_data"
        }
      ],
      "source": [
        "fig = go.Figure()\n",
        "\n",
        "fig.add_trace(go.Funnel(name='Terceiro', y=tb_terceiro['Cargo'], x=tb_terceiro['Terceiro']))\n",
        "\n",
        "fig.add_trace(go.Funnel(name='CLT', y=tb_clt['Cargo'], x=tb_clt['CLT']))\n",
        "\n",
        "\n",
        "fig.update_layout(title='Comparação entre salários de contratados pela CLT e salários de terceirizados R$', template='plotly_dark')\n",
        "fig.show()"
      ]
    }
  ],
  "metadata": {
    "colab": {
      "collapsed_sections": [],
      "name": "02_salarios_CLT_Terceirizado_simplificado_barras_duplas.ipynb",
      "provenance": [],
      "include_colab_link": true
    },
    "interpreter": {
      "hash": "f9f85f796d01129d0dd105a088854619f454435301f6ffec2fea96ecbd9be4ac"
    },
    "kernelspec": {
      "display_name": "Python 3.9.12 64-bit",
      "language": "python",
      "name": "python3"
    },
    "language_info": {
      "codemirror_mode": {
        "name": "ipython",
        "version": 3
      },
      "file_extension": ".py",
      "mimetype": "text/x-python",
      "name": "python",
      "nbconvert_exporter": "python",
      "pygments_lexer": "ipython3",
      "version": "3.10.2"
    },
    "orig_nbformat": 4
  },
  "nbformat": 4,
  "nbformat_minor": 0
}
