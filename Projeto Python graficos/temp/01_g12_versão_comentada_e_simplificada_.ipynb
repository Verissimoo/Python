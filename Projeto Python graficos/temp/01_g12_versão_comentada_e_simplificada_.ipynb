{
  "cells": [
    {
      "cell_type": "markdown",
      "metadata": {
        "id": "view-in-github",
        "colab_type": "text"
      },
      "source": [
        "<a href=\"https://colab.research.google.com/github/TrabalhoAPC2021-02/Trabalho_Final/blob/main/temp/01_g12_vers%C3%A3o_comentada_e_simplificada_.ipynb\" target=\"_parent\"><img src=\"https://colab.research.google.com/assets/colab-badge.svg\" alt=\"Open In Colab\"/></a>"
      ]
    },
    {
      "cell_type": "markdown",
      "metadata": {
        "id": "SsiHzsqMCO_3"
      },
      "source": [
        "# Importanto as bibliotecas\n",
        "Pandas - Biblioteca para leitura, tratamento e manipulação de dados: https://pandas.pydata.org/docs/\n",
        "\n",
        "Plotly - Biblioteca para a criação e edição de gráficos: https://plotly.com/python/\n"
      ]
    },
    {
      "cell_type": "code",
      "execution_count": null,
      "metadata": {
        "id": "xWXlisAGLLGL"
      },
      "outputs": [],
      "source": [
        "#importando as bibliotecas\n",
        "\n",
        "import pandas as pd    # biblioteca utilizada para arquivos em dataframe\n",
        "import plotly.express as px # biclioteca responsável por plotar os gráficos"
      ]
    },
    {
      "cell_type": "markdown",
      "source": [
        "# Criando as listas para receber os dados do gráfico"
      ],
      "metadata": {
        "id": "MO-eMq6RaIf8"
      }
    },
    {
      "cell_type": "code",
      "execution_count": null,
      "metadata": {
        "id": "gdDjtiEQLLGR"
      },
      "outputs": [],
      "source": [
        "s_av =[]   # vetor que receberá as médias salariais \n",
        "country = [] # vetor para receber o nome do país"
      ]
    },
    {
      "cell_type": "markdown",
      "source": [
        ""
      ],
      "metadata": {
        "id": "iGrEE1Z1aTJD"
      }
    },
    {
      "cell_type": "markdown",
      "metadata": {
        "id": "L8CvCrFfCO__"
      },
      "source": [
        "# Explicando a tabela\n",
        "Essa tabela mostra os salários mundiais dos profissionais de TI por país\n",
        "\n",
        "Os valores nas Tabelas estão em dólares"
      ]
    },
    {
      "cell_type": "code",
      "execution_count": null,
      "metadata": {
        "id": "Mjjo9EWaLLGT"
      },
      "outputs": [],
      "source": [
        "#Criando dataframe através da leitura da planilha em excel\n",
        "df = pd.read_excel('https://raw.githubusercontent.com/TrabalhoAPC2021-02/Trabalho_Final/main/arquivos/01_Data_Professional_full.xlsx')\n",
        "df.head() # mostra apenas as primeiras linhas do dataframe"
      ]
    },
    {
      "cell_type": "markdown",
      "source": [
        "# Lógica utilizada\n",
        "\n",
        "Para os maiores doze países foi calculada a média salarial e cada valor foi adicionado (\"append\") nas listas criadas no início do código\n",
        "\n",
        "Essa lógica foi repetida para cada país separadamente"
      ],
      "metadata": {
        "id": "R94zg5Nmaw6o"
      }
    },
    {
      "cell_type": "code",
      "execution_count": null,
      "metadata": {
        "id": "WMk9-yMQLLGU"
      },
      "outputs": [],
      "source": [
        "#Selecionando os dados dos USA com slários de 2017 a 2021\n",
        "\n",
        "df_usa = df[df['Country'] == 'United States'] #Esse dataframe escolhe os dados apenas dos USA\n",
        "salary_usa = df_usa['SalaryUSD'].tolist() # tranformando o dataframe dos usa  com salarios de 2017 a 2021 em lista para poder usar laços iterativos.\n",
        "\n",
        "#utilização de um laço for para calcular média dos salários dos USA \n",
        "\n",
        "soma_sal_usa = 0   # contador = 0, para somar todos os salários declarados referente aos USA\n",
        "\n",
        "for i in range (len(salary_usa)):  # o laço vai percorrer todas as linhas refernte aos USA\n",
        "    soma_sal_usa = soma_sal_usa + salary_usa[i]  # Aqui o contador vai começar a acmular linha por linha cada salário declarado\n",
        "av_usa = soma_sal_usa/len(salary_usa) #fora do laço a variável av_usa recebe a média dos salários, onde divide o salário acumulado pela quantidade de salários declarados\n",
        "\n",
        "s_av.append(av_usa)    # recebendo a media salarial na lista s_av (anteriormente vazia)\n",
        "country.append('USA')  # recebendo o código do país na lista s_av (anteriormente vazia)"
      ]
    },
    {
      "cell_type": "markdown",
      "source": [
        "# A mesma estrutura se repete para os demais paises.\n"
      ],
      "metadata": {
        "id": "2dx73IjVbX-W"
      }
    },
    {
      "cell_type": "code",
      "execution_count": null,
      "metadata": {
        "id": "s4I5jrixLLGY"
      },
      "outputs": [],
      "source": [
        "print(s_av)    # mostra como ficou a lista que recebe as médias salariais\n",
        "print(country)  # mostra como ficou a lista que recebe os códigos dos países."
      ]
    },
    {
      "cell_type": "markdown",
      "source": [
        "# Vamos criar dois gráficos com os mesmos dados, um de barra e outro através de um mapa mundi. \n",
        "Ambos os gráficos utilizam a bblioteca do plotly express e mostram a média saalrial de cada país."
      ],
      "metadata": {
        "id": "kA85UKGmbuTW"
      }
    },
    {
      "cell_type": "code",
      "execution_count": null,
      "metadata": {
        "id": "uNqnMw0KLLGd"
      },
      "outputs": [],
      "source": [
        "#Método para criar o gráfico de barra. através da combinação das listas s_av e country.\n",
        "fig = px.bar(x=country, y=s_av, title='Average')  # no eeixo x ploto os nomes dos países, no eixo y a média salarial\n",
        "fig.update_xaxes(title='Country') #título do eixo x\n",
        "fig.update_yaxes(title='Average annual salary [USD]') #título do eixo y\n",
        "fig.show()  # mostra o gráfico de barras"
      ]
    },
    {
      "cell_type": "markdown",
      "source": [
        "# Gráfico de dispersão geográfica\n",
        "\n",
        "zip ????\n",
        "\n",
        "locations = codigos das coordenadas dos países\n",
        "\n",
        "size = \"ajusta\" o tamanho da bolinha de acordo com o valor da média salarial,maiores salários, maiores bolinhas.\n",
        "\n",
        "projection = tipo de mapa mundi"
      ],
      "metadata": {
        "id": "TmnujBD3cDr6"
      }
    },
    {
      "cell_type": "code",
      "execution_count": null,
      "metadata": {
        "id": "UMqEdYY0LLGe"
      },
      "outputs": [],
      "source": [
        "#Criando o gráfico através do mapa mundi.\n",
        "\n",
        "#estrutura para criar um dataframe tendo duas listas, s_av (media salarial) e country (código dos países)\n",
        "df_sv = pd.DataFrame(list(zip(country,s_av)), columns = ['Country','Average annual salary [USD]']) \n",
        "print(df_sv)  #print do dataframe\n",
        "\n",
        "# para esse utiliza a função scatter_geo do plotely express. Os países ficam alocados em location, e a média salarial em size.\n",
        "fig = px.scatter_geo(df_sv, locations='Country', size='Average annual salary [USD]',color=country , projection=\"natural earth\", title='Média de salário anual dos profissionais de TI dos paises do G12*') "
      ]
    }
  ],
  "metadata": {
    "interpreter": {
      "hash": "8ecffdc6c758d8d591c9db2dd61d4239b732fc0649a1249e1bcab96bc3159102"
    },
    "kernelspec": {
      "display_name": "Python 3.9.7 ('base')",
      "language": "python",
      "name": "python3"
    },
    "language_info": {
      "codemirror_mode": {
        "name": "ipython",
        "version": 3
      },
      "file_extension": ".py",
      "mimetype": "text/x-python",
      "name": "python",
      "nbconvert_exporter": "python",
      "pygments_lexer": "ipython3",
      "version": "3.9.7"
    },
    "orig_nbformat": 4,
    "colab": {
      "name": "Cópia de 01_g12_versão comentada...e simplificada..ipynb",
      "provenance": [],
      "include_colab_link": true
    }
  },
  "nbformat": 4,
  "nbformat_minor": 0
}