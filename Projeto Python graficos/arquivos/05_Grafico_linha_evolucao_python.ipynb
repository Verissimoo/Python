{
  "nbformat": 4,
  "nbformat_minor": 0,
  "metadata": {
    "colab": {
      "name": "Grafico barra evolucao python.ipynb",
      "provenance": [],
      "include_colab_link": true
    },
    "kernelspec": {
      "name": "python3",
      "display_name": "Python 3"
    },
    "language_info": {
      "name": "python"
    }
  },
  "cells": [
    {
      "cell_type": "markdown",
      "metadata": {
        "id": "view-in-github",
        "colab_type": "text"
      },
      "source": [
        "<a href=\"https://colab.research.google.com/github/TrabalhoAPC2021-02/Trabalho_Final/blob/main/arquivos/05_Grafico_linha_evolucao_python.ipynb\" target=\"_parent\"><img src=\"https://colab.research.google.com/assets/colab-badge.svg\" alt=\"Open In Colab\"/></a>"
      ]
    },
    {
      "cell_type": "code",
      "execution_count": null,
      "metadata": {
        "id": "6Yif5JlwtT_C"
      },
      "outputs": [],
      "source": [
        "# bibliotecas\n",
        "import plotly.express as px # para plotar o grafico\n",
        "import pandas as pd # para importar os dados da tabela excel ou .csv"
      ]
    },
    {
      "cell_type": "code",
      "source": [
        "# carrega a tabela para o dataframe df\n",
        "df = pd.read_csv('https://raw.githubusercontent.com/TrabalhoAPC2021-02/Trabalho_Final/main/arquivos/04e05_Most_Popular_Programming_Languages_from_2005_to_2021.csv', ';')\n",
        "df"
      ],
      "metadata": {
        "id": "Rlbvs5b3t_L5"
      },
      "execution_count": null,
      "outputs": []
    },
    {
      "cell_type": "code",
      "source": [
        "# converte os dados em uma lista chamada lista_dados\n",
        "lista_dados = df.values\n",
        "print(lista_dados)\n",
        "print(len(lista_dados))"
      ],
      "metadata": {
        "id": "kJa9soGguIn4",
        "outputId": "75ff41a2-d3da-486d-bae9-5ef4a0fb8243",
        "colab": {
          "base_uri": "https://localhost:8080/"
        }
      },
      "execution_count": null,
      "outputs": [
        {
          "output_type": "stream",
          "name": "stdout",
          "text": [
            "[['January 2005' 0.38 0.38 ... 0.0 1.51 7.79]\n",
            " ['February 2005' 0.37 0.38 ... 0.0 1.45 7.67]\n",
            " ['March 2005' 0.337 0.37 ... 0.0 1.44 7.68]\n",
            " ...\n",
            " ['October 2021' 0.53 0.57 ... 1.59 1.28 0.75]\n",
            " ['November 2021' 0.61 0.7 ... 1.63 1.37 0.76]\n",
            " ['December 2021' 0.7 0.67 ... 1.66 1.25 0.71]]\n",
            "204\n"
          ]
        }
      ]
    },
    {
      "cell_type": "code",
      "source": [
        "# separa ano do mês\n",
        "ano: [str] = [0 for ff in range(204)] # cria uma lista para receber a parte da string de data que se refere ao ano\n",
        "\n",
        "i = 0 # inicializa o contador que indexa a lista ano\n",
        "for x in lista_dados: # percorre todas as linhas da lista_dados\n",
        "  ano[i] = x[0][len(x[0])-4:len(x[0])] # salva em ano[i] so os 4 ultimos caracteres da string 'mes ano'\n",
        "  #print(ano[i])\n",
        "  i = i + 1\n",
        "\n",
        "len(ano)\n"
      ],
      "metadata": {
        "id": "HIhJ26dCuMov",
        "outputId": "b4495951-d9fe-4229-f86c-78329d9c94af",
        "colab": {
          "base_uri": "https://localhost:8080/"
        }
      },
      "execution_count": null,
      "outputs": [
        {
          "output_type": "execute_result",
          "data": {
            "text/plain": [
              "204"
            ]
          },
          "metadata": {},
          "execution_count": 9
        }
      ]
    },
    {
      "cell_type": "code",
      "source": [
        "# agrupar os anos repetidos\n",
        "anos_agrupados: [str] = [0 for ff in range(17)] # cria uma lista para receber os anos que nao forem repetidos\n",
        "\n",
        "anos_agrupados[0] = ano[0] # incializa o primeiro ano a ser comparado\n",
        "\n",
        "m = 0 # inicializa o contador que indexa a lista anos_agrupados\n",
        "for z in ano: # percorre todas as linhas da lista ano\n",
        "  if z != anos_agrupados[m]: # compara o ano do atual da lista_dados com o utlimo ano_agrupado armazenado\n",
        "    m = m + 1 # como sao anos diferentes, incremeta o indice para armazenar o novo ano em uma nova posicao da lista\n",
        "    anos_agrupados[m] = z\n",
        "    \n",
        "print(anos_agrupados)\n",
        "len(anos_agrupados)"
      ],
      "metadata": {
        "id": "BuTv_nfkvozt",
        "outputId": "1d71c5a4-4e6d-4947-d2fa-cc20e9ad53bb",
        "colab": {
          "base_uri": "https://localhost:8080/"
        }
      },
      "execution_count": null,
      "outputs": [
        {
          "output_type": "stream",
          "name": "stdout",
          "text": [
            "['2005', '2006', '2007', '2008', '2009', '2010', '2011', '2012', '2013', '2014', '2015', '2016', '2017', '2018', '2019', '2020', '2021']\n"
          ]
        },
        {
          "output_type": "execute_result",
          "data": {
            "text/plain": [
              "17"
            ]
          },
          "metadata": {},
          "execution_count": 10
        }
      ]
    },
    {
      "cell_type": "code",
      "source": [
        "# carrega dados da linguagem python na lista valores_python\n",
        "valores_python = lista_dados[:,20] # sintaxe: lista[linha,coluna] -> linha = : todas as linhas -> coluna = 20 coluna de Python\n",
        "print(valores_python)"
      ],
      "metadata": {
        "id": "ingBtTO8xzy5",
        "outputId": "f2680040-6e25-4954-8c2c-31cbec47a122",
        "colab": {
          "base_uri": "https://localhost:8080/"
        }
      },
      "execution_count": null,
      "outputs": [
        {
          "output_type": "stream",
          "name": "stdout",
          "text": [
            "[2.91 2.87 2.81 2.78 2.88 2.947 2.98 3.13 3.28 3.47 3.64 3.887 3.968 3.96\n",
            " 3.94 3.81 3.71 3.67 3.58 3.65 3.8 3.92 3.96 3.98 4.15 4.34 4.3 4.39 4.42\n",
            " 4.475 4.35 4.19 4.22 4.27 4.475 4.66 4.85 4.975 5.09 5.06 5.09 5.02 5.06\n",
            " 5.2 5.27 5.6 5.75 5.94 6.26 6.3 6.41 6.35 6.39 6.43 6.54 6.67 6.67 6.8\n",
            " 6.83 6.8 6.56 6.47 6.435 6.27 6.21 6.25 6.25 6.22 6.34 6.435 6.5 6.58\n",
            " 6.725 6.94 6.99 6.9 6.98 6.95 6.95 6.94 7.03 7.26 7.42 7.73 7.84 7.9 8.03\n",
            " 8.08 8.1 8.07 8.1 8.21 8.23 8.28 8.35 8.44 8.62 8.87 9.0 9.17 9.36 9.56\n",
            " 9.71 9.67 9.85 9.85 9.89 9.82 9.95 10.02 9.94 10.05 10.14 10.27 10.17\n",
            " 10.28 10.27 10.44 10.56 10.58 10.71 10.84 11.1 11.12 11.12 11.2 11.34\n",
            " 11.35 11.45 11.58 11.73 11.94 11.98 12.3 12.62 12.8 12.94 13.32 13.68\n",
            " 13.87 14.04 14.31 14.7 14.97 15.31 15.68 16.17 16.59 16.85 17.23 17.54\n",
            " 17.88 18.19 18.67 19.18 19.7 20.26 20.75 21.21 21.68 22.3 22.62 23.06\n",
            " 23.48 23.71 24.16 24.6 24.75 25.16 25.61 26.2 26.65 26.91 27.54 27.99\n",
            " 28.27 28.59 28.77 29.04 29.12 29.23 29.78 30.37 30.5 31.06 31.66 32.11\n",
            " 32.1 31.86 31.75 31.0 30.68 30.5 30.23 30.28 30.18 30.44 30.45 30.74\n",
            " 30.74 30.11 30.14 30.04 29.58]\n"
          ]
        }
      ]
    },
    {
      "cell_type": "code",
      "source": [
        "# totalizar dados mensais em anos\n",
        "soma_python: [float] = [0 for hh in range(17)] # cria uma lista para receber a soma dos valores da coluna Python\n",
        "media_python: [float] = [0 for ii in range(17)] # cria uma lista para receber a media dos valores da coluna Python\n",
        "\n",
        "j = 0 # inicializa o contador que indexa a lista soma_python e media_python\n",
        "for z in range(0, len(valores_python)): # de 0 ate quantidade total de valores de python\n",
        "    if ano[z] == anos_agrupados[j]: # soma enquanto o ano de lista_dados for igual ao ano agrupado\n",
        "        soma_python[j] = soma_python[j] + valores_python[z]  # acumula a soma\n",
        "        #print(ano[z], soma_python[j], media_python[j])\n",
        "    else: # novo ano\n",
        "        media_python[j] = soma_python[j] / 12.0 # ja calcula a media desse ano\n",
        "        print(anos_agrupados[j], soma_python[j], media_python[j]) \n",
        "        j = j + 1 # incrementa o indice para começar a amular a soma do novo ano\n",
        "        soma_python[j] = soma_python[j] + valores_python[z] # acumula a soma\n",
        "    media_python[j] = soma_python[j] / 12.0 # calcula a media do ultimo ano acumulado\n",
        "    \n",
        "print(anos_agrupados[j], soma_python[j], media_python[j]) "
      ],
      "metadata": {
        "id": "2em-c7drxR8Z",
        "outputId": "6491ef39-b1af-4b9f-ffa5-795a8b043c60",
        "colab": {
          "base_uri": "https://localhost:8080/"
        }
      },
      "execution_count": null,
      "outputs": [
        {
          "output_type": "stream",
          "name": "stdout",
          "text": [
            "2005 37.583999999999996 3.1319999999999997\n",
            "2006 45.94799999999999 3.8289999999999993\n",
            "2007 52.24000000000001 4.353333333333334\n",
            "2008 62.904999999999994 5.2420833333333325\n",
            "2009 78.45 6.5375000000000005\n",
            "2010 76.52 6.376666666666666\n",
            "2011 84.81500000000001 7.067916666666668\n",
            "2012 97.63000000000001 8.135833333333334\n",
            "2013 113.36999999999998 9.447499999999998\n",
            "2014 122.66999999999999 10.222499999999998\n",
            "2015 135.48 11.29\n",
            "2016 161.53 13.460833333333333\n",
            "2017 208.99 17.415833333333335\n",
            "2018 272.58 22.715\n",
            "2019 329.85 27.4875\n",
            "2020 372.09999999999997 31.00833333333333\n",
            "2021 363.43 30.285833333333333\n"
          ]
        }
      ]
    },
    {
      "cell_type": "code",
      "source": [
        "# plotar grafico de linhas com os dados totalizados por ano da linguagem python\n",
        "fig = px.line(x=anos_agrupados, y=media_python, title=\"Evolução do uso da linguagem Python nos últimos 17 anos\",  markers=True) # markers -> pontos na curva\n",
        "fig.update_xaxes(title='Ano',  ticks='outside') # ticks -> tracinhos que acompanham os numeros\n",
        "fig.update_yaxes(title='Percentual',  ticks='outside')\n",
        "fig.show() # mostra o grafico na tela"
      ],
      "metadata": {
        "colab": {
          "base_uri": "https://localhost:8080/",
          "height": 542
        },
        "id": "Vgw4HFsP0ZvU",
        "outputId": "62daed7e-acfd-4bc8-b8d7-133d60a9493f"
      },
      "execution_count": null,
      "outputs": [
        {
          "output_type": "display_data",
          "data": {
            "text/html": [
              "<html>\n",
              "<head><meta charset=\"utf-8\" /></head>\n",
              "<body>\n",
              "    <div>            <script src=\"https://cdnjs.cloudflare.com/ajax/libs/mathjax/2.7.5/MathJax.js?config=TeX-AMS-MML_SVG\"></script><script type=\"text/javascript\">if (window.MathJax) {MathJax.Hub.Config({SVG: {font: \"STIX-Web\"}});}</script>                <script type=\"text/javascript\">window.PlotlyConfig = {MathJaxConfig: 'local'};</script>\n",
              "        <script src=\"https://cdn.plot.ly/plotly-2.8.3.min.js\"></script>                <div id=\"95a7f9af-2f3c-4dd5-a6a4-c9983ba798fc\" class=\"plotly-graph-div\" style=\"height:525px; width:100%;\"></div>            <script type=\"text/javascript\">                                    window.PLOTLYENV=window.PLOTLYENV || {};                                    if (document.getElementById(\"95a7f9af-2f3c-4dd5-a6a4-c9983ba798fc\")) {                    Plotly.newPlot(                        \"95a7f9af-2f3c-4dd5-a6a4-c9983ba798fc\",                        [{\"hovertemplate\":\"x=%{x}<br>y=%{y}<extra></extra>\",\"legendgroup\":\"\",\"line\":{\"color\":\"#636efa\",\"dash\":\"solid\"},\"marker\":{\"symbol\":\"circle\"},\"mode\":\"lines+markers\",\"name\":\"\",\"orientation\":\"v\",\"showlegend\":false,\"x\":[\"2005\",\"2006\",\"2007\",\"2008\",\"2009\",\"2010\",\"2011\",\"2012\",\"2013\",\"2014\",\"2015\",\"2016\",\"2017\",\"2018\",\"2019\",\"2020\",\"2021\"],\"xaxis\":\"x\",\"y\":[3.1319999999999997,3.8289999999999993,4.353333333333334,5.2420833333333325,6.5375000000000005,6.376666666666666,7.067916666666668,8.135833333333334,9.447499999999998,10.222499999999998,11.29,13.460833333333333,17.415833333333335,22.715,27.4875,31.00833333333333,30.285833333333333],\"yaxis\":\"y\",\"type\":\"scatter\"}],                        {\"template\":{\"data\":{\"bar\":[{\"error_x\":{\"color\":\"#2a3f5f\"},\"error_y\":{\"color\":\"#2a3f5f\"},\"marker\":{\"line\":{\"color\":\"#E5ECF6\",\"width\":0.5},\"pattern\":{\"fillmode\":\"overlay\",\"size\":10,\"solidity\":0.2}},\"type\":\"bar\"}],\"barpolar\":[{\"marker\":{\"line\":{\"color\":\"#E5ECF6\",\"width\":0.5},\"pattern\":{\"fillmode\":\"overlay\",\"size\":10,\"solidity\":0.2}},\"type\":\"barpolar\"}],\"carpet\":[{\"aaxis\":{\"endlinecolor\":\"#2a3f5f\",\"gridcolor\":\"white\",\"linecolor\":\"white\",\"minorgridcolor\":\"white\",\"startlinecolor\":\"#2a3f5f\"},\"baxis\":{\"endlinecolor\":\"#2a3f5f\",\"gridcolor\":\"white\",\"linecolor\":\"white\",\"minorgridcolor\":\"white\",\"startlinecolor\":\"#2a3f5f\"},\"type\":\"carpet\"}],\"choropleth\":[{\"colorbar\":{\"outlinewidth\":0,\"ticks\":\"\"},\"type\":\"choropleth\"}],\"contour\":[{\"colorbar\":{\"outlinewidth\":0,\"ticks\":\"\"},\"colorscale\":[[0.0,\"#0d0887\"],[0.1111111111111111,\"#46039f\"],[0.2222222222222222,\"#7201a8\"],[0.3333333333333333,\"#9c179e\"],[0.4444444444444444,\"#bd3786\"],[0.5555555555555556,\"#d8576b\"],[0.6666666666666666,\"#ed7953\"],[0.7777777777777778,\"#fb9f3a\"],[0.8888888888888888,\"#fdca26\"],[1.0,\"#f0f921\"]],\"type\":\"contour\"}],\"contourcarpet\":[{\"colorbar\":{\"outlinewidth\":0,\"ticks\":\"\"},\"type\":\"contourcarpet\"}],\"heatmap\":[{\"colorbar\":{\"outlinewidth\":0,\"ticks\":\"\"},\"colorscale\":[[0.0,\"#0d0887\"],[0.1111111111111111,\"#46039f\"],[0.2222222222222222,\"#7201a8\"],[0.3333333333333333,\"#9c179e\"],[0.4444444444444444,\"#bd3786\"],[0.5555555555555556,\"#d8576b\"],[0.6666666666666666,\"#ed7953\"],[0.7777777777777778,\"#fb9f3a\"],[0.8888888888888888,\"#fdca26\"],[1.0,\"#f0f921\"]],\"type\":\"heatmap\"}],\"heatmapgl\":[{\"colorbar\":{\"outlinewidth\":0,\"ticks\":\"\"},\"colorscale\":[[0.0,\"#0d0887\"],[0.1111111111111111,\"#46039f\"],[0.2222222222222222,\"#7201a8\"],[0.3333333333333333,\"#9c179e\"],[0.4444444444444444,\"#bd3786\"],[0.5555555555555556,\"#d8576b\"],[0.6666666666666666,\"#ed7953\"],[0.7777777777777778,\"#fb9f3a\"],[0.8888888888888888,\"#fdca26\"],[1.0,\"#f0f921\"]],\"type\":\"heatmapgl\"}],\"histogram\":[{\"marker\":{\"pattern\":{\"fillmode\":\"overlay\",\"size\":10,\"solidity\":0.2}},\"type\":\"histogram\"}],\"histogram2d\":[{\"colorbar\":{\"outlinewidth\":0,\"ticks\":\"\"},\"colorscale\":[[0.0,\"#0d0887\"],[0.1111111111111111,\"#46039f\"],[0.2222222222222222,\"#7201a8\"],[0.3333333333333333,\"#9c179e\"],[0.4444444444444444,\"#bd3786\"],[0.5555555555555556,\"#d8576b\"],[0.6666666666666666,\"#ed7953\"],[0.7777777777777778,\"#fb9f3a\"],[0.8888888888888888,\"#fdca26\"],[1.0,\"#f0f921\"]],\"type\":\"histogram2d\"}],\"histogram2dcontour\":[{\"colorbar\":{\"outlinewidth\":0,\"ticks\":\"\"},\"colorscale\":[[0.0,\"#0d0887\"],[0.1111111111111111,\"#46039f\"],[0.2222222222222222,\"#7201a8\"],[0.3333333333333333,\"#9c179e\"],[0.4444444444444444,\"#bd3786\"],[0.5555555555555556,\"#d8576b\"],[0.6666666666666666,\"#ed7953\"],[0.7777777777777778,\"#fb9f3a\"],[0.8888888888888888,\"#fdca26\"],[1.0,\"#f0f921\"]],\"type\":\"histogram2dcontour\"}],\"mesh3d\":[{\"colorbar\":{\"outlinewidth\":0,\"ticks\":\"\"},\"type\":\"mesh3d\"}],\"parcoords\":[{\"line\":{\"colorbar\":{\"outlinewidth\":0,\"ticks\":\"\"}},\"type\":\"parcoords\"}],\"pie\":[{\"automargin\":true,\"type\":\"pie\"}],\"scatter\":[{\"marker\":{\"colorbar\":{\"outlinewidth\":0,\"ticks\":\"\"}},\"type\":\"scatter\"}],\"scatter3d\":[{\"line\":{\"colorbar\":{\"outlinewidth\":0,\"ticks\":\"\"}},\"marker\":{\"colorbar\":{\"outlinewidth\":0,\"ticks\":\"\"}},\"type\":\"scatter3d\"}],\"scattercarpet\":[{\"marker\":{\"colorbar\":{\"outlinewidth\":0,\"ticks\":\"\"}},\"type\":\"scattercarpet\"}],\"scattergeo\":[{\"marker\":{\"colorbar\":{\"outlinewidth\":0,\"ticks\":\"\"}},\"type\":\"scattergeo\"}],\"scattergl\":[{\"marker\":{\"colorbar\":{\"outlinewidth\":0,\"ticks\":\"\"}},\"type\":\"scattergl\"}],\"scattermapbox\":[{\"marker\":{\"colorbar\":{\"outlinewidth\":0,\"ticks\":\"\"}},\"type\":\"scattermapbox\"}],\"scatterpolar\":[{\"marker\":{\"colorbar\":{\"outlinewidth\":0,\"ticks\":\"\"}},\"type\":\"scatterpolar\"}],\"scatterpolargl\":[{\"marker\":{\"colorbar\":{\"outlinewidth\":0,\"ticks\":\"\"}},\"type\":\"scatterpolargl\"}],\"scatterternary\":[{\"marker\":{\"colorbar\":{\"outlinewidth\":0,\"ticks\":\"\"}},\"type\":\"scatterternary\"}],\"surface\":[{\"colorbar\":{\"outlinewidth\":0,\"ticks\":\"\"},\"colorscale\":[[0.0,\"#0d0887\"],[0.1111111111111111,\"#46039f\"],[0.2222222222222222,\"#7201a8\"],[0.3333333333333333,\"#9c179e\"],[0.4444444444444444,\"#bd3786\"],[0.5555555555555556,\"#d8576b\"],[0.6666666666666666,\"#ed7953\"],[0.7777777777777778,\"#fb9f3a\"],[0.8888888888888888,\"#fdca26\"],[1.0,\"#f0f921\"]],\"type\":\"surface\"}],\"table\":[{\"cells\":{\"fill\":{\"color\":\"#EBF0F8\"},\"line\":{\"color\":\"white\"}},\"header\":{\"fill\":{\"color\":\"#C8D4E3\"},\"line\":{\"color\":\"white\"}},\"type\":\"table\"}]},\"layout\":{\"annotationdefaults\":{\"arrowcolor\":\"#2a3f5f\",\"arrowhead\":0,\"arrowwidth\":1},\"autotypenumbers\":\"strict\",\"coloraxis\":{\"colorbar\":{\"outlinewidth\":0,\"ticks\":\"\"}},\"colorscale\":{\"diverging\":[[0,\"#8e0152\"],[0.1,\"#c51b7d\"],[0.2,\"#de77ae\"],[0.3,\"#f1b6da\"],[0.4,\"#fde0ef\"],[0.5,\"#f7f7f7\"],[0.6,\"#e6f5d0\"],[0.7,\"#b8e186\"],[0.8,\"#7fbc41\"],[0.9,\"#4d9221\"],[1,\"#276419\"]],\"sequential\":[[0.0,\"#0d0887\"],[0.1111111111111111,\"#46039f\"],[0.2222222222222222,\"#7201a8\"],[0.3333333333333333,\"#9c179e\"],[0.4444444444444444,\"#bd3786\"],[0.5555555555555556,\"#d8576b\"],[0.6666666666666666,\"#ed7953\"],[0.7777777777777778,\"#fb9f3a\"],[0.8888888888888888,\"#fdca26\"],[1.0,\"#f0f921\"]],\"sequentialminus\":[[0.0,\"#0d0887\"],[0.1111111111111111,\"#46039f\"],[0.2222222222222222,\"#7201a8\"],[0.3333333333333333,\"#9c179e\"],[0.4444444444444444,\"#bd3786\"],[0.5555555555555556,\"#d8576b\"],[0.6666666666666666,\"#ed7953\"],[0.7777777777777778,\"#fb9f3a\"],[0.8888888888888888,\"#fdca26\"],[1.0,\"#f0f921\"]]},\"colorway\":[\"#636efa\",\"#EF553B\",\"#00cc96\",\"#ab63fa\",\"#FFA15A\",\"#19d3f3\",\"#FF6692\",\"#B6E880\",\"#FF97FF\",\"#FECB52\"],\"font\":{\"color\":\"#2a3f5f\"},\"geo\":{\"bgcolor\":\"white\",\"lakecolor\":\"white\",\"landcolor\":\"#E5ECF6\",\"showlakes\":true,\"showland\":true,\"subunitcolor\":\"white\"},\"hoverlabel\":{\"align\":\"left\"},\"hovermode\":\"closest\",\"mapbox\":{\"style\":\"light\"},\"paper_bgcolor\":\"white\",\"plot_bgcolor\":\"#E5ECF6\",\"polar\":{\"angularaxis\":{\"gridcolor\":\"white\",\"linecolor\":\"white\",\"ticks\":\"\"},\"bgcolor\":\"#E5ECF6\",\"radialaxis\":{\"gridcolor\":\"white\",\"linecolor\":\"white\",\"ticks\":\"\"}},\"scene\":{\"xaxis\":{\"backgroundcolor\":\"#E5ECF6\",\"gridcolor\":\"white\",\"gridwidth\":2,\"linecolor\":\"white\",\"showbackground\":true,\"ticks\":\"\",\"zerolinecolor\":\"white\"},\"yaxis\":{\"backgroundcolor\":\"#E5ECF6\",\"gridcolor\":\"white\",\"gridwidth\":2,\"linecolor\":\"white\",\"showbackground\":true,\"ticks\":\"\",\"zerolinecolor\":\"white\"},\"zaxis\":{\"backgroundcolor\":\"#E5ECF6\",\"gridcolor\":\"white\",\"gridwidth\":2,\"linecolor\":\"white\",\"showbackground\":true,\"ticks\":\"\",\"zerolinecolor\":\"white\"}},\"shapedefaults\":{\"line\":{\"color\":\"#2a3f5f\"}},\"ternary\":{\"aaxis\":{\"gridcolor\":\"white\",\"linecolor\":\"white\",\"ticks\":\"\"},\"baxis\":{\"gridcolor\":\"white\",\"linecolor\":\"white\",\"ticks\":\"\"},\"bgcolor\":\"#E5ECF6\",\"caxis\":{\"gridcolor\":\"white\",\"linecolor\":\"white\",\"ticks\":\"\"}},\"title\":{\"x\":0.05},\"xaxis\":{\"automargin\":true,\"gridcolor\":\"white\",\"linecolor\":\"white\",\"ticks\":\"\",\"title\":{\"standoff\":15},\"zerolinecolor\":\"white\",\"zerolinewidth\":2},\"yaxis\":{\"automargin\":true,\"gridcolor\":\"white\",\"linecolor\":\"white\",\"ticks\":\"\",\"title\":{\"standoff\":15},\"zerolinecolor\":\"white\",\"zerolinewidth\":2}}},\"xaxis\":{\"anchor\":\"y\",\"domain\":[0.0,1.0],\"title\":{\"text\":\"Ano\"},\"ticks\":\"outside\"},\"yaxis\":{\"anchor\":\"x\",\"domain\":[0.0,1.0],\"title\":{\"text\":\"Percentual\"},\"ticks\":\"outside\"},\"legend\":{\"tracegroupgap\":0},\"title\":{\"text\":\"Evolu\\u00e7\\u00e3o do uso da linguagem Python nos \\u00faltimos 17 anos\"}},                        {\"responsive\": true}                    ).then(function(){\n",
              "                            \n",
              "var gd = document.getElementById('95a7f9af-2f3c-4dd5-a6a4-c9983ba798fc');\n",
              "var x = new MutationObserver(function (mutations, observer) {{\n",
              "        var display = window.getComputedStyle(gd).display;\n",
              "        if (!display || display === 'none') {{\n",
              "            console.log([gd, 'removed!']);\n",
              "            Plotly.purge(gd);\n",
              "            observer.disconnect();\n",
              "        }}\n",
              "}});\n",
              "\n",
              "// Listen for the removal of the full notebook cells\n",
              "var notebookContainer = gd.closest('#notebook-container');\n",
              "if (notebookContainer) {{\n",
              "    x.observe(notebookContainer, {childList: true});\n",
              "}}\n",
              "\n",
              "// Listen for the clearing of the current output cell\n",
              "var outputEl = gd.closest('.output');\n",
              "if (outputEl) {{\n",
              "    x.observe(outputEl, {childList: true});\n",
              "}}\n",
              "\n",
              "                        })                };                            </script>        </div>\n",
              "</body>\n",
              "</html>"
            ]
          },
          "metadata": {}
        }
      ]
    }
  ]
}